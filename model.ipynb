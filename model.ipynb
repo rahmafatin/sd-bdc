{
  "cells": [
    {
      "cell_type": "markdown",
      "metadata": {
        "id": "RaTPpxu5qE8j"
      },
      "source": [
        "# Import\""
      ]
    },
    {
      "cell_type": "code",
      "execution_count": 1,
      "metadata": {
        "id": "kzvDoNhxqE8l"
      },
      "outputs": [],
      "source": [
        "import pandas as pd\n",
        "from sklearn.preprocessing import LabelEncoder\n",
        "from sklearn.linear_model import LogisticRegression\n",
        "from sklearn.naive_bayes import GaussianNB\n",
        "from sklearn.naive_bayes import BernoulliNB\n",
        "from sklearn.svm import SVC\n",
        "from sklearn.ensemble import RandomForestClassifier\n",
        "from sklearn.neighbors import KNeighborsClassifier\n",
        "from sklearn.metrics import f1_score\n",
        "from xgboost import XGBClassifier\n",
        "import seaborn as sns\n",
        "import matplotlib.pyplot as plt\n",
        "import numpy as np\n",
        "%matplotlib inline"
      ]
    },
    {
      "cell_type": "code",
      "source": [
        "from sklearn.preprocessing import OrdinalEncoder\n",
        "from sklearn.feature_selection import SelectKBest\n",
        "from sklearn.feature_selection import chi2"
      ],
      "metadata": {
        "id": "03wFiPlKuWA_"
      },
      "execution_count": 2,
      "outputs": []
    },
    {
      "cell_type": "markdown",
      "source": [
        "###Set up github"
      ],
      "metadata": {
        "id": "_D-7qJ0iwzkA"
      }
    },
    {
      "cell_type": "code",
      "source": [
        "from google.colab import drive\n",
        "drive.mount('/content/drive')\n",
        "%cd 'drive/MyDrive/INTERN/SATRIA DATA/Resource/'\n",
        "%pwd\n"
      ],
      "metadata": {
        "colab": {
          "base_uri": "https://localhost:8080/",
          "height": 73
        },
        "id": "3_v2SEbvqhSJ",
        "outputId": "0ec267f4-90be-4ed0-8064-0653f4424b60"
      },
      "execution_count": 3,
      "outputs": [
        {
          "output_type": "stream",
          "name": "stdout",
          "text": [
            "Drive already mounted at /content/drive; to attempt to forcibly remount, call drive.mount(\"/content/drive\", force_remount=True).\n",
            "/content/drive/MyDrive/INTERN/SATRIA DATA\n"
          ]
        },
        {
          "output_type": "execute_result",
          "data": {
            "text/plain": [
              "'/content/drive/MyDrive/INTERN/SATRIA DATA'"
            ],
            "application/vnd.google.colaboratory.intrinsic+json": {
              "type": "string"
            }
          },
          "metadata": {},
          "execution_count": 3
        }
      ]
    },
    {
      "cell_type": "code",
      "source": [
        "%cd 'BDC Satria Data 2022'"
      ],
      "metadata": {
        "id": "06tjWX5lLgx0",
        "outputId": "42d80679-532d-4166-cbf1-064cf2b8a558",
        "colab": {
          "base_uri": "https://localhost:8080/"
        }
      },
      "execution_count": 8,
      "outputs": [
        {
          "output_type": "stream",
          "name": "stdout",
          "text": [
            "/content/drive/.shortcut-targets-by-id/1fkBz1-vepGPpSi3G1lqK0rs31ptk6fNB/BDC Satria Data 2022\n"
          ]
        }
      ]
    },
    {
      "cell_type": "code",
      "source": [
        "# !git init"
      ],
      "metadata": {
        "colab": {
          "base_uri": "https://localhost:8080/"
        },
        "id": "N7wxmLaAwP31",
        "outputId": "57ec358d-e753-4fb7-cfde-d295535bcd4c"
      },
      "execution_count": null,
      "outputs": [
        {
          "output_type": "stream",
          "name": "stdout",
          "text": [
            "Reinitialized existing Git repository in /content/drive/MyDrive/INTERN/SATRIA DATA/.git/\n"
          ]
        }
      ]
    },
    {
      "cell_type": "code",
      "source": [
        "# !git config --global user.email \"rhmftn.ni@gmail.com\"\n",
        "# !git config --global user.name \"rahmafatin\""
      ],
      "metadata": {
        "id": "klXDkNh_wT9I"
      },
      "execution_count": null,
      "outputs": []
    },
    {
      "cell_type": "code",
      "source": [
        "# !git commit -m \"checking the null value\""
      ],
      "metadata": {
        "colab": {
          "base_uri": "https://localhost:8080/"
        },
        "id": "GzRQeLhRvEQX",
        "outputId": "0f67db38-4b41-440b-ed4f-47ff6c3e7d42"
      },
      "execution_count": null,
      "outputs": [
        {
          "output_type": "stream",
          "name": "stdout",
          "text": [
            "On branch master\n",
            "\n",
            "Initial commit\n",
            "\n",
            "Untracked files:\n",
            "\t\u001b[31mHasil Training Model.gsheet\u001b[m\n",
            "\t\u001b[31mInstruksi dan Problem BDC Satria Data 2022.pptx\u001b[m\n",
            "\t\u001b[31mKode ICD10 untuk diagnosis FKTP.xlsx\u001b[m\n",
            "\t\u001b[31mMetadata.xlsx\u001b[m\n",
            "\t\u001b[31mmodel.ipynb\u001b[m\n",
            "\t\u001b[31msubmission.csv\u001b[m\n",
            "\t\u001b[31mtest_fktp.txt\u001b[m\n",
            "\t\u001b[31mtrain_fktp.txt\u001b[m\n",
            "\n",
            "nothing added to commit but untracked files present\n"
          ]
        }
      ]
    },
    {
      "cell_type": "markdown",
      "metadata": {
        "id": "EB0rw-oDqE8n"
      },
      "source": [
        "# Preprocessing"
      ]
    },
    {
      "cell_type": "code",
      "execution_count": 9,
      "metadata": {
        "id": "G9sr2dMhqE8o"
      },
      "outputs": [],
      "source": [
        "cols = [\n",
        "    'nomor_peserta', \n",
        "    'nomor_keluarga', \n",
        "    'bobot', \n",
        "    'id_kunjungan_fktp', \n",
        "    'tgl_dtg_kunjungan_fktp', \n",
        "    'tgl_plg_kunjungan_fktp', \n",
        "    'provinsi_fktp', \n",
        "    'kota_fktp', \n",
        "    'kepemilikan_fktp', \n",
        "    'jenis_fktp', \n",
        "    'tipe_fktp', \n",
        "    'tingkat_pelayanan_fktp', \n",
        "    'jenis_poli_fktp', \n",
        "    'akses_layanan_fktp', \n",
        "    'kode_nama_diagnosis', \n",
        "    'kode_diagnosis', \n",
        "    'kode_diagnosis_2', \n",
        "    'nama_diagnosis', \n",
        "    'provinsi_rujukan', \n",
        "    'kota_rujukan', \n",
        "    'kepemilikan_faskes_rujukan', \n",
        "    'jenis_faskes_rujukan', \n",
        "    'tipe_faskes_rujukan', \n",
        "    'poli_faskes_rujukan', \n",
        "    'jenis_kunjungan_fktp', \n",
        "    'status_pulang',\n",
        "]"
      ]
    },
    {
      "cell_type": "code",
      "execution_count": 10,
      "metadata": {
        "colab": {
          "base_uri": "https://localhost:8080/",
          "height": 438
        },
        "id": "ekM1qJoaqE8p",
        "outputId": "b74048fb-d7d2-4b75-c1bc-0ee15ec725d6"
      },
      "outputs": [
        {
          "output_type": "execute_result",
          "data": {
            "text/plain": [
              "   nomor_peserta  nomor_keluarga       bobot id_kunjungan_fktp  \\\n",
              "0    157978748.0        50765420   20.064983         958073632   \n",
              "1     95085112.0        26931775    2.626307  449590620P000054   \n",
              "2    224470578.0       227368233    1.051830  467490619P000001   \n",
              "3     63871289.0        62313678  364.741455  254321219Y002368   \n",
              "4     29915626.0       113446188    1.050523   88681119P000020   \n",
              "\n",
              "  tgl_dtg_kunjungan_fktp tgl_plg_kunjungan_fktp  provinsi_fktp  kota_fktp  \\\n",
              "0             2019-08-01             2019-08-01             61       6108   \n",
              "1             2020-06-17             2020-06-17             51       5171   \n",
              "2             2019-06-01             2019-06-01             35       3516   \n",
              "3             2019-12-21             2019-12-21             34       3402   \n",
              "4             2019-11-04             2019-11-04             35       3509   \n",
              "\n",
              "   kepemilikan_fktp  jenis_fktp  ...  kode_diagnosis_2  \\\n",
              "0                 3           1  ...              9999   \n",
              "1                 9           3  ...              K297   \n",
              "2                 9           2  ...              Z309   \n",
              "3                 3           1  ...               I10   \n",
              "4                 3           1  ...              I110   \n",
              "\n",
              "                                      nama_diagnosis  provinsi_rujukan  \\\n",
              "0                                               9999                98   \n",
              "1                             Gastritis, unspecified                98   \n",
              "2              Contraceptive management, unspecified                98   \n",
              "3                   Essential (primary) hypertension                98   \n",
              "4  Hypertensive heart disease with (congestive) h...                98   \n",
              "\n",
              "   kota_rujukan  kepemilikan_faskes_rujukan jenis_faskes_rujukan  \\\n",
              "0          9998                          98                   98   \n",
              "1          9998                          98                   98   \n",
              "2          9998                          98                   98   \n",
              "3          9998                          98                   98   \n",
              "4          9998                          98                   98   \n",
              "\n",
              "  tipe_faskes_rujukan poli_faskes_rujukan  jenis_kunjungan_fktp  status_pulang  \n",
              "0                  98                  98                     2          Sehat  \n",
              "1                  98                  98                     1    Belum_Sehat  \n",
              "2                  98                  98                     1    Belum_Sehat  \n",
              "3                  98                  98                     1    Belum_Sehat  \n",
              "4                  98                  98                     1    Belum_Sehat  \n",
              "\n",
              "[5 rows x 26 columns]"
            ],
            "text/html": [
              "\n",
              "  <div id=\"df-2f16c087-55e4-4352-b019-f1e169f2bfb7\">\n",
              "    <div class=\"colab-df-container\">\n",
              "      <div>\n",
              "<style scoped>\n",
              "    .dataframe tbody tr th:only-of-type {\n",
              "        vertical-align: middle;\n",
              "    }\n",
              "\n",
              "    .dataframe tbody tr th {\n",
              "        vertical-align: top;\n",
              "    }\n",
              "\n",
              "    .dataframe thead th {\n",
              "        text-align: right;\n",
              "    }\n",
              "</style>\n",
              "<table border=\"1\" class=\"dataframe\">\n",
              "  <thead>\n",
              "    <tr style=\"text-align: right;\">\n",
              "      <th></th>\n",
              "      <th>nomor_peserta</th>\n",
              "      <th>nomor_keluarga</th>\n",
              "      <th>bobot</th>\n",
              "      <th>id_kunjungan_fktp</th>\n",
              "      <th>tgl_dtg_kunjungan_fktp</th>\n",
              "      <th>tgl_plg_kunjungan_fktp</th>\n",
              "      <th>provinsi_fktp</th>\n",
              "      <th>kota_fktp</th>\n",
              "      <th>kepemilikan_fktp</th>\n",
              "      <th>jenis_fktp</th>\n",
              "      <th>...</th>\n",
              "      <th>kode_diagnosis_2</th>\n",
              "      <th>nama_diagnosis</th>\n",
              "      <th>provinsi_rujukan</th>\n",
              "      <th>kota_rujukan</th>\n",
              "      <th>kepemilikan_faskes_rujukan</th>\n",
              "      <th>jenis_faskes_rujukan</th>\n",
              "      <th>tipe_faskes_rujukan</th>\n",
              "      <th>poli_faskes_rujukan</th>\n",
              "      <th>jenis_kunjungan_fktp</th>\n",
              "      <th>status_pulang</th>\n",
              "    </tr>\n",
              "  </thead>\n",
              "  <tbody>\n",
              "    <tr>\n",
              "      <th>0</th>\n",
              "      <td>157978748.0</td>\n",
              "      <td>50765420</td>\n",
              "      <td>20.064983</td>\n",
              "      <td>958073632</td>\n",
              "      <td>2019-08-01</td>\n",
              "      <td>2019-08-01</td>\n",
              "      <td>61</td>\n",
              "      <td>6108</td>\n",
              "      <td>3</td>\n",
              "      <td>1</td>\n",
              "      <td>...</td>\n",
              "      <td>9999</td>\n",
              "      <td>9999</td>\n",
              "      <td>98</td>\n",
              "      <td>9998</td>\n",
              "      <td>98</td>\n",
              "      <td>98</td>\n",
              "      <td>98</td>\n",
              "      <td>98</td>\n",
              "      <td>2</td>\n",
              "      <td>Sehat</td>\n",
              "    </tr>\n",
              "    <tr>\n",
              "      <th>1</th>\n",
              "      <td>95085112.0</td>\n",
              "      <td>26931775</td>\n",
              "      <td>2.626307</td>\n",
              "      <td>449590620P000054</td>\n",
              "      <td>2020-06-17</td>\n",
              "      <td>2020-06-17</td>\n",
              "      <td>51</td>\n",
              "      <td>5171</td>\n",
              "      <td>9</td>\n",
              "      <td>3</td>\n",
              "      <td>...</td>\n",
              "      <td>K297</td>\n",
              "      <td>Gastritis, unspecified</td>\n",
              "      <td>98</td>\n",
              "      <td>9998</td>\n",
              "      <td>98</td>\n",
              "      <td>98</td>\n",
              "      <td>98</td>\n",
              "      <td>98</td>\n",
              "      <td>1</td>\n",
              "      <td>Belum_Sehat</td>\n",
              "    </tr>\n",
              "    <tr>\n",
              "      <th>2</th>\n",
              "      <td>224470578.0</td>\n",
              "      <td>227368233</td>\n",
              "      <td>1.051830</td>\n",
              "      <td>467490619P000001</td>\n",
              "      <td>2019-06-01</td>\n",
              "      <td>2019-06-01</td>\n",
              "      <td>35</td>\n",
              "      <td>3516</td>\n",
              "      <td>9</td>\n",
              "      <td>2</td>\n",
              "      <td>...</td>\n",
              "      <td>Z309</td>\n",
              "      <td>Contraceptive management, unspecified</td>\n",
              "      <td>98</td>\n",
              "      <td>9998</td>\n",
              "      <td>98</td>\n",
              "      <td>98</td>\n",
              "      <td>98</td>\n",
              "      <td>98</td>\n",
              "      <td>1</td>\n",
              "      <td>Belum_Sehat</td>\n",
              "    </tr>\n",
              "    <tr>\n",
              "      <th>3</th>\n",
              "      <td>63871289.0</td>\n",
              "      <td>62313678</td>\n",
              "      <td>364.741455</td>\n",
              "      <td>254321219Y002368</td>\n",
              "      <td>2019-12-21</td>\n",
              "      <td>2019-12-21</td>\n",
              "      <td>34</td>\n",
              "      <td>3402</td>\n",
              "      <td>3</td>\n",
              "      <td>1</td>\n",
              "      <td>...</td>\n",
              "      <td>I10</td>\n",
              "      <td>Essential (primary) hypertension</td>\n",
              "      <td>98</td>\n",
              "      <td>9998</td>\n",
              "      <td>98</td>\n",
              "      <td>98</td>\n",
              "      <td>98</td>\n",
              "      <td>98</td>\n",
              "      <td>1</td>\n",
              "      <td>Belum_Sehat</td>\n",
              "    </tr>\n",
              "    <tr>\n",
              "      <th>4</th>\n",
              "      <td>29915626.0</td>\n",
              "      <td>113446188</td>\n",
              "      <td>1.050523</td>\n",
              "      <td>88681119P000020</td>\n",
              "      <td>2019-11-04</td>\n",
              "      <td>2019-11-04</td>\n",
              "      <td>35</td>\n",
              "      <td>3509</td>\n",
              "      <td>3</td>\n",
              "      <td>1</td>\n",
              "      <td>...</td>\n",
              "      <td>I110</td>\n",
              "      <td>Hypertensive heart disease with (congestive) h...</td>\n",
              "      <td>98</td>\n",
              "      <td>9998</td>\n",
              "      <td>98</td>\n",
              "      <td>98</td>\n",
              "      <td>98</td>\n",
              "      <td>98</td>\n",
              "      <td>1</td>\n",
              "      <td>Belum_Sehat</td>\n",
              "    </tr>\n",
              "  </tbody>\n",
              "</table>\n",
              "<p>5 rows × 26 columns</p>\n",
              "</div>\n",
              "      <button class=\"colab-df-convert\" onclick=\"convertToInteractive('df-2f16c087-55e4-4352-b019-f1e169f2bfb7')\"\n",
              "              title=\"Convert this dataframe to an interactive table.\"\n",
              "              style=\"display:none;\">\n",
              "        \n",
              "  <svg xmlns=\"http://www.w3.org/2000/svg\" height=\"24px\"viewBox=\"0 0 24 24\"\n",
              "       width=\"24px\">\n",
              "    <path d=\"M0 0h24v24H0V0z\" fill=\"none\"/>\n",
              "    <path d=\"M18.56 5.44l.94 2.06.94-2.06 2.06-.94-2.06-.94-.94-2.06-.94 2.06-2.06.94zm-11 1L8.5 8.5l.94-2.06 2.06-.94-2.06-.94L8.5 2.5l-.94 2.06-2.06.94zm10 10l.94 2.06.94-2.06 2.06-.94-2.06-.94-.94-2.06-.94 2.06-2.06.94z\"/><path d=\"M17.41 7.96l-1.37-1.37c-.4-.4-.92-.59-1.43-.59-.52 0-1.04.2-1.43.59L10.3 9.45l-7.72 7.72c-.78.78-.78 2.05 0 2.83L4 21.41c.39.39.9.59 1.41.59.51 0 1.02-.2 1.41-.59l7.78-7.78 2.81-2.81c.8-.78.8-2.07 0-2.86zM5.41 20L4 18.59l7.72-7.72 1.47 1.35L5.41 20z\"/>\n",
              "  </svg>\n",
              "      </button>\n",
              "      \n",
              "  <style>\n",
              "    .colab-df-container {\n",
              "      display:flex;\n",
              "      flex-wrap:wrap;\n",
              "      gap: 12px;\n",
              "    }\n",
              "\n",
              "    .colab-df-convert {\n",
              "      background-color: #E8F0FE;\n",
              "      border: none;\n",
              "      border-radius: 50%;\n",
              "      cursor: pointer;\n",
              "      display: none;\n",
              "      fill: #1967D2;\n",
              "      height: 32px;\n",
              "      padding: 0 0 0 0;\n",
              "      width: 32px;\n",
              "    }\n",
              "\n",
              "    .colab-df-convert:hover {\n",
              "      background-color: #E2EBFA;\n",
              "      box-shadow: 0px 1px 2px rgba(60, 64, 67, 0.3), 0px 1px 3px 1px rgba(60, 64, 67, 0.15);\n",
              "      fill: #174EA6;\n",
              "    }\n",
              "\n",
              "    [theme=dark] .colab-df-convert {\n",
              "      background-color: #3B4455;\n",
              "      fill: #D2E3FC;\n",
              "    }\n",
              "\n",
              "    [theme=dark] .colab-df-convert:hover {\n",
              "      background-color: #434B5C;\n",
              "      box-shadow: 0px 1px 3px 1px rgba(0, 0, 0, 0.15);\n",
              "      filter: drop-shadow(0px 1px 2px rgba(0, 0, 0, 0.3));\n",
              "      fill: #FFFFFF;\n",
              "    }\n",
              "  </style>\n",
              "\n",
              "      <script>\n",
              "        const buttonEl =\n",
              "          document.querySelector('#df-2f16c087-55e4-4352-b019-f1e169f2bfb7 button.colab-df-convert');\n",
              "        buttonEl.style.display =\n",
              "          google.colab.kernel.accessAllowed ? 'block' : 'none';\n",
              "\n",
              "        async function convertToInteractive(key) {\n",
              "          const element = document.querySelector('#df-2f16c087-55e4-4352-b019-f1e169f2bfb7');\n",
              "          const dataTable =\n",
              "            await google.colab.kernel.invokeFunction('convertToInteractive',\n",
              "                                                     [key], {});\n",
              "          if (!dataTable) return;\n",
              "\n",
              "          const docLinkHtml = 'Like what you see? Visit the ' +\n",
              "            '<a target=\"_blank\" href=https://colab.research.google.com/notebooks/data_table.ipynb>data table notebook</a>'\n",
              "            + ' to learn more about interactive tables.';\n",
              "          element.innerHTML = '';\n",
              "          dataTable['output_type'] = 'display_data';\n",
              "          await google.colab.output.renderOutput(dataTable, element);\n",
              "          const docLink = document.createElement('div');\n",
              "          docLink.innerHTML = docLinkHtml;\n",
              "          element.appendChild(docLink);\n",
              "        }\n",
              "      </script>\n",
              "    </div>\n",
              "  </div>\n",
              "  "
            ]
          },
          "metadata": {},
          "execution_count": 10
        }
      ],
      "source": [
        "df_train = pd.read_csv(\"train_fktp.txt\", sep=',', header=None, names=cols)\n",
        "df_train.head()"
      ]
    },
    {
      "cell_type": "code",
      "source": [
        "#Checking the null value distribution \n",
        "df_train.isna().sum()\n"
      ],
      "metadata": {
        "colab": {
          "base_uri": "https://localhost:8080/"
        },
        "id": "Mt8KldEdsJIm",
        "outputId": "d278f521-9c27-41aa-8ab8-ff7936dc7960"
      },
      "execution_count": null,
      "outputs": [
        {
          "output_type": "execute_result",
          "data": {
            "text/plain": [
              "nomor_peserta                       0\n",
              "nomor_keluarga                      0\n",
              "bobot                               0\n",
              "id_kunjungan_fktp                   0\n",
              "tgl_dtg_kunjungan_fktp              0\n",
              "tgl_plg_kunjungan_fktp              0\n",
              "provinsi_fktp                       0\n",
              "kota_fktp                           0\n",
              "kepemilikan_fktp                    0\n",
              "jenis_fktp                          0\n",
              "tipe_fktp                           0\n",
              "tingkat_pelayanan_fktp              0\n",
              "jenis_poli_fktp                     1\n",
              "akses_layanan_fktp                  0\n",
              "kode_nama_diagnosis                 0\n",
              "kode_diagnosis                1380241\n",
              "kode_diagnosis_2                    0\n",
              "nama_diagnosis                      0\n",
              "provinsi_rujukan                    0\n",
              "kota_rujukan                        0\n",
              "kepemilikan_faskes_rujukan          0\n",
              "jenis_faskes_rujukan                0\n",
              "tipe_faskes_rujukan                 0\n",
              "poli_faskes_rujukan                 0\n",
              "jenis_kunjungan_fktp                0\n",
              "status_pulang                       0\n",
              "dtype: int64"
            ]
          },
          "metadata": {},
          "execution_count": 9
        }
      ]
    },
    {
      "cell_type": "code",
      "source": [],
      "metadata": {
        "id": "P38DQsMlqc-_"
      },
      "execution_count": null,
      "outputs": []
    },
    {
      "cell_type": "markdown",
      "source": [
        "###Exploratory Data Analysis"
      ],
      "metadata": {
        "id": "XevwMBNU28Ge"
      }
    },
    {
      "cell_type": "markdown",
      "source": [
        "Melihat persebaran data untuk mencegah persebaran data yang tidak normal. sehingga menyebabkan tidak akuratnya prediksi"
      ],
      "metadata": {
        "id": "NPXcu3M12-jF"
      }
    },
    {
      "cell_type": "code",
      "source": [
        "df_train['status_pulang'].value_counts()"
      ],
      "metadata": {
        "colab": {
          "base_uri": "https://localhost:8080/"
        },
        "id": "FrW4Ln0T41_5",
        "outputId": "710d4036-02de-4155-e8cc-25f1c879aee2"
      },
      "execution_count": null,
      "outputs": [
        {
          "output_type": "execute_result",
          "data": {
            "text/plain": [
              "Belum_Sehat    2634511\n",
              "Sehat          1422387\n",
              "Name: status_pulang, dtype: int64"
            ]
          },
          "metadata": {},
          "execution_count": 10
        }
      ]
    },
    {
      "cell_type": "markdown",
      "source": [
        "Untuk persebaran dari kepulangan pasien cukup seimbang. tetapi jika ditilik kembali terdapat angka yang cukup besar untuk null value di kolom kode_diagnosis"
      ],
      "metadata": {
        "id": "xWYzPPDC5mP9"
      }
    },
    {
      "cell_type": "code",
      "source": [
        "df_train[df_train['kode_diagnosis'].isna() == True]['status_pulang'].value_counts()"
      ],
      "metadata": {
        "colab": {
          "base_uri": "https://localhost:8080/"
        },
        "id": "iLIoVMB36FOb",
        "outputId": "9407ceaf-920f-481d-9ce9-ecd90d1ee3c7"
      },
      "execution_count": 11,
      "outputs": [
        {
          "data": {
            "text/plain": [
              "Sehat    1380241\n",
              "Name: status_pulang, dtype: int64"
            ]
          },
          "execution_count": 11,
          "metadata": {},
          "output_type": "execute_result"
        }
      ]
    },
    {
      "cell_type": "markdown",
      "source": [
        "Untuk data yang memiliki nilai kode_diagnosis null berperan besar terhadap kepulangan pasien. Sehingga penghapusan row tidak dapat dilakukan. Alternatif lain adalah melihat poli rujukan dari data dengan diagnosis null"
      ],
      "metadata": {
        "id": "_g32x97Z6Qik"
      }
    },
    {
      "cell_type": "code",
      "source": [
        "df_train[df_train['kode_diagnosis'].isna() == True]['poli_faskes_rujukan'].value_counts()"
      ],
      "metadata": {
        "colab": {
          "base_uri": "https://localhost:8080/"
        },
        "id": "bqQexwuq9sdJ",
        "outputId": "69c24f12-cd7d-4c01-d61d-7f1939b9e111"
      },
      "execution_count": 12,
      "outputs": [
        {
          "data": {
            "text/plain": [
              "98    1380241\n",
              "Name: poli_faskes_rujukan, dtype: int64"
            ]
          },
          "execution_count": 12,
          "metadata": {},
          "output_type": "execute_result"
        }
      ]
    },
    {
      "cell_type": "markdown",
      "source": [
        "Berdasarkan metadata nilai 98 --> tidak dirujuk. \n",
        "Dapat disimpulkan bahwa pasien yang tidak memiliki kode diagnosis tidak mendapatkan rujukan sehingga bisa di klasifikasikan sebagai sembuh. \n",
        "\n",
        "Selanjutnya kita bisa melihat poli yang didatangi pasien yang sebagian besar tidak memiliki rujukan dan tidak di diagnosis apapun"
      ],
      "metadata": {
        "id": "hoyIc5YJ92wp"
      }
    },
    {
      "cell_type": "code",
      "source": [
        "df_train[df_train['kode_diagnosis'].isna() == True]['jenis_poli_fktp'].value_counts()"
      ],
      "metadata": {
        "colab": {
          "base_uri": "https://localhost:8080/"
        },
        "id": "C_RhLPVk6gnF",
        "outputId": "6d704dd0-06d9-4a54-e999-c6626ef1d1d6"
      },
      "execution_count": 13,
      "outputs": [
        {
          "data": {
            "text/plain": [
              "13.0    860554\n",
              "12.0    499703\n",
              "28.0     13501\n",
              "1.0       2077\n",
              "18.0      1612\n",
              "17.0      1465\n",
              "20.0       716\n",
              "19.0       414\n",
              "21.0       146\n",
              "3.0         29\n",
              "2.0         12\n",
              "14.0         5\n",
              "7.0          4\n",
              "5.0          2\n",
              "Name: jenis_poli_fktp, dtype: int64"
            ]
          },
          "execution_count": 13,
          "metadata": {},
          "output_type": "execute_result"
        }
      ]
    },
    {
      "cell_type": "markdown",
      "source": [
        "![image.png](data:image/png;base64,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)\n"
      ],
      "metadata": {
        "id": "03NkSyNoEufe"
      }
    },
    {
      "cell_type": "markdown",
      "source": [
        "Berdasarkkan metadata menunjukkan bahwa poli - poli yang tidak melakukan rujukan adalah konseling, home visit, Kunjungan online, Poli umum, Imunisasi, Gigi, KIA, Lansia, Laborat dan KB \n",
        "\n",
        "Seluruh poli tersebut masuk kedalam poli rawat jalan sehingga tidak membutuhkan konsentrasi lebih lanjut. "
      ],
      "metadata": {
        "id": "Qwox5XVbE6YQ"
      }
    },
    {
      "cell_type": "markdown",
      "source": [
        "Karena kita tidak bisa menghapus baris yang memiliki null value. maka kita bisa mengisi null value tersebut dengan nilai kode_diagnosis_2 sehingga antara kode_diagnosis dan kode_diagnosis_2 memiliki value yang sama. Hal ini dilakukan karena untuk seluruh data yang memiliki kode_diagnosis null memiliki kode_diagnosis_2 sebesar 9999 Hal ini ditunjukkan di section Nama diagnosis dan kode diagnosis"
      ],
      "metadata": {
        "id": "tuz5Fom6Fga3"
      }
    },
    {
      "cell_type": "markdown",
      "source": [
        "####Filling missing value"
      ],
      "metadata": {
        "id": "wgkj2n9Mqll0"
      }
    },
    {
      "cell_type": "code",
      "source": [
        "# mengisi null value pada kolom kode diagnosis\n",
        "df_train['kode_diagnosis'].fillna(value='9999', inplace=True)\n",
        "\n",
        "# masih terdapat missing value dalam jenis_poli_fktp\n",
        "# Karena hanya satu baris maka bisa menggunakan dropna \n",
        "df_train.dropna(axis=0, inplace=True)"
      ],
      "metadata": {
        "id": "rO-CehToJ8d6"
      },
      "execution_count": 14,
      "outputs": []
    },
    {
      "cell_type": "code",
      "source": [
        "df_train.isna().sum()"
      ],
      "metadata": {
        "id": "ZQaZVWOlK3ti",
        "outputId": "620b6014-a3a8-4241-e87c-bf2972186f38",
        "colab": {
          "base_uri": "https://localhost:8080/"
        }
      },
      "execution_count": 15,
      "outputs": [
        {
          "data": {
            "text/plain": [
              "nomor_peserta                 0\n",
              "nomor_keluarga                0\n",
              "bobot                         0\n",
              "id_kunjungan_fktp             0\n",
              "tgl_dtg_kunjungan_fktp        0\n",
              "tgl_plg_kunjungan_fktp        0\n",
              "provinsi_fktp                 0\n",
              "kota_fktp                     0\n",
              "kepemilikan_fktp              0\n",
              "jenis_fktp                    0\n",
              "tipe_fktp                     0\n",
              "tingkat_pelayanan_fktp        0\n",
              "jenis_poli_fktp               0\n",
              "akses_layanan_fktp            0\n",
              "kode_nama_diagnosis           0\n",
              "kode_diagnosis                0\n",
              "kode_diagnosis_2              0\n",
              "nama_diagnosis                0\n",
              "provinsi_rujukan              0\n",
              "kota_rujukan                  0\n",
              "kepemilikan_faskes_rujukan    0\n",
              "jenis_faskes_rujukan          0\n",
              "tipe_faskes_rujukan           0\n",
              "poli_faskes_rujukan           0\n",
              "jenis_kunjungan_fktp          0\n",
              "status_pulang                 0\n",
              "dtype: int64"
            ]
          },
          "execution_count": 15,
          "metadata": {},
          "output_type": "execute_result"
        }
      ]
    },
    {
      "cell_type": "code",
      "source": [
        "df_train.columns"
      ],
      "metadata": {
        "id": "S88vScjcEhuO",
        "outputId": "3d754bcc-2f50-4376-b22a-c46e817e9598",
        "colab": {
          "base_uri": "https://localhost:8080/"
        }
      },
      "execution_count": 16,
      "outputs": [
        {
          "data": {
            "text/plain": [
              "Index(['nomor_peserta', 'nomor_keluarga', 'bobot', 'id_kunjungan_fktp',\n",
              "       'tgl_dtg_kunjungan_fktp', 'tgl_plg_kunjungan_fktp', 'provinsi_fktp',\n",
              "       'kota_fktp', 'kepemilikan_fktp', 'jenis_fktp', 'tipe_fktp',\n",
              "       'tingkat_pelayanan_fktp', 'jenis_poli_fktp', 'akses_layanan_fktp',\n",
              "       'kode_nama_diagnosis', 'kode_diagnosis', 'kode_diagnosis_2',\n",
              "       'nama_diagnosis', 'provinsi_rujukan', 'kota_rujukan',\n",
              "       'kepemilikan_faskes_rujukan', 'jenis_faskes_rujukan',\n",
              "       'tipe_faskes_rujukan', 'poli_faskes_rujukan', 'jenis_kunjungan_fktp',\n",
              "       'status_pulang'],\n",
              "      dtype='object')"
            ]
          },
          "execution_count": 16,
          "metadata": {},
          "output_type": "execute_result"
        }
      ]
    },
    {
      "cell_type": "markdown",
      "source": [
        "####Nama diagnosis dan kode diagnosis"
      ],
      "metadata": {
        "id": "A5DWC_de2ezU"
      }
    },
    {
      "cell_type": "code",
      "source": [
        "df_train[df_train['kode_diagnosis'].isna() == True][['kode_nama_diagnosis', 'kode_diagnosis_2', 'nama_diagnosis']]"
      ],
      "metadata": {
        "colab": {
          "base_uri": "https://localhost:8080/",
          "height": 49
        },
        "id": "RmyIemnXsUYj",
        "outputId": "0da6f1b3-56b2-4478-e56e-61982d897836"
      },
      "execution_count": 17,
      "outputs": [
        {
          "data": {
            "text/html": [
              "\n",
              "  <div id=\"df-f090b01f-f2fc-4f5e-a595-0f94c272a2b4\">\n",
              "    <div class=\"colab-df-container\">\n",
              "      <div>\n",
              "<style scoped>\n",
              "    .dataframe tbody tr th:only-of-type {\n",
              "        vertical-align: middle;\n",
              "    }\n",
              "\n",
              "    .dataframe tbody tr th {\n",
              "        vertical-align: top;\n",
              "    }\n",
              "\n",
              "    .dataframe thead th {\n",
              "        text-align: right;\n",
              "    }\n",
              "</style>\n",
              "<table border=\"1\" class=\"dataframe\">\n",
              "  <thead>\n",
              "    <tr style=\"text-align: right;\">\n",
              "      <th></th>\n",
              "      <th>kode_nama_diagnosis</th>\n",
              "      <th>kode_diagnosis_2</th>\n",
              "      <th>nama_diagnosis</th>\n",
              "    </tr>\n",
              "  </thead>\n",
              "  <tbody>\n",
              "  </tbody>\n",
              "</table>\n",
              "</div>\n",
              "      <button class=\"colab-df-convert\" onclick=\"convertToInteractive('df-f090b01f-f2fc-4f5e-a595-0f94c272a2b4')\"\n",
              "              title=\"Convert this dataframe to an interactive table.\"\n",
              "              style=\"display:none;\">\n",
              "        \n",
              "  <svg xmlns=\"http://www.w3.org/2000/svg\" height=\"24px\"viewBox=\"0 0 24 24\"\n",
              "       width=\"24px\">\n",
              "    <path d=\"M0 0h24v24H0V0z\" fill=\"none\"/>\n",
              "    <path d=\"M18.56 5.44l.94 2.06.94-2.06 2.06-.94-2.06-.94-.94-2.06-.94 2.06-2.06.94zm-11 1L8.5 8.5l.94-2.06 2.06-.94-2.06-.94L8.5 2.5l-.94 2.06-2.06.94zm10 10l.94 2.06.94-2.06 2.06-.94-2.06-.94-.94-2.06-.94 2.06-2.06.94z\"/><path d=\"M17.41 7.96l-1.37-1.37c-.4-.4-.92-.59-1.43-.59-.52 0-1.04.2-1.43.59L10.3 9.45l-7.72 7.72c-.78.78-.78 2.05 0 2.83L4 21.41c.39.39.9.59 1.41.59.51 0 1.02-.2 1.41-.59l7.78-7.78 2.81-2.81c.8-.78.8-2.07 0-2.86zM5.41 20L4 18.59l7.72-7.72 1.47 1.35L5.41 20z\"/>\n",
              "  </svg>\n",
              "      </button>\n",
              "      \n",
              "  <style>\n",
              "    .colab-df-container {\n",
              "      display:flex;\n",
              "      flex-wrap:wrap;\n",
              "      gap: 12px;\n",
              "    }\n",
              "\n",
              "    .colab-df-convert {\n",
              "      background-color: #E8F0FE;\n",
              "      border: none;\n",
              "      border-radius: 50%;\n",
              "      cursor: pointer;\n",
              "      display: none;\n",
              "      fill: #1967D2;\n",
              "      height: 32px;\n",
              "      padding: 0 0 0 0;\n",
              "      width: 32px;\n",
              "    }\n",
              "\n",
              "    .colab-df-convert:hover {\n",
              "      background-color: #E2EBFA;\n",
              "      box-shadow: 0px 1px 2px rgba(60, 64, 67, 0.3), 0px 1px 3px 1px rgba(60, 64, 67, 0.15);\n",
              "      fill: #174EA6;\n",
              "    }\n",
              "\n",
              "    [theme=dark] .colab-df-convert {\n",
              "      background-color: #3B4455;\n",
              "      fill: #D2E3FC;\n",
              "    }\n",
              "\n",
              "    [theme=dark] .colab-df-convert:hover {\n",
              "      background-color: #434B5C;\n",
              "      box-shadow: 0px 1px 3px 1px rgba(0, 0, 0, 0.15);\n",
              "      filter: drop-shadow(0px 1px 2px rgba(0, 0, 0, 0.3));\n",
              "      fill: #FFFFFF;\n",
              "    }\n",
              "  </style>\n",
              "\n",
              "      <script>\n",
              "        const buttonEl =\n",
              "          document.querySelector('#df-f090b01f-f2fc-4f5e-a595-0f94c272a2b4 button.colab-df-convert');\n",
              "        buttonEl.style.display =\n",
              "          google.colab.kernel.accessAllowed ? 'block' : 'none';\n",
              "\n",
              "        async function convertToInteractive(key) {\n",
              "          const element = document.querySelector('#df-f090b01f-f2fc-4f5e-a595-0f94c272a2b4');\n",
              "          const dataTable =\n",
              "            await google.colab.kernel.invokeFunction('convertToInteractive',\n",
              "                                                     [key], {});\n",
              "          if (!dataTable) return;\n",
              "\n",
              "          const docLinkHtml = 'Like what you see? Visit the ' +\n",
              "            '<a target=\"_blank\" href=https://colab.research.google.com/notebooks/data_table.ipynb>data table notebook</a>'\n",
              "            + ' to learn more about interactive tables.';\n",
              "          element.innerHTML = '';\n",
              "          dataTable['output_type'] = 'display_data';\n",
              "          await google.colab.output.renderOutput(dataTable, element);\n",
              "          const docLink = document.createElement('div');\n",
              "          docLink.innerHTML = docLinkHtml;\n",
              "          element.appendChild(docLink);\n",
              "        }\n",
              "      </script>\n",
              "    </div>\n",
              "  </div>\n",
              "  "
            ],
            "text/plain": [
              "Empty DataFrame\n",
              "Columns: [kode_nama_diagnosis, kode_diagnosis_2, nama_diagnosis]\n",
              "Index: []"
            ]
          },
          "execution_count": 17,
          "metadata": {},
          "output_type": "execute_result"
        }
      ]
    },
    {
      "cell_type": "code",
      "source": [
        "df_train[df_train['kode_diagnosis'].isna() == True]['kode_diagnosis_2'].unique()"
      ],
      "metadata": {
        "colab": {
          "base_uri": "https://localhost:8080/"
        },
        "id": "tySEBOsoINxt",
        "outputId": "9ec5fcd2-cc62-4769-c641-5fdfcd7554da"
      },
      "execution_count": 18,
      "outputs": [
        {
          "data": {
            "text/plain": [
              "array([], dtype=object)"
            ]
          },
          "execution_count": 18,
          "metadata": {},
          "output_type": "execute_result"
        }
      ]
    },
    {
      "cell_type": "code",
      "source": [
        "kode_nama = pd.DataFrame(df_train[['kode_diagnosis', 'nama_diagnosis']])"
      ],
      "metadata": {
        "id": "MWCEMgk4xg-d"
      },
      "execution_count": 19,
      "outputs": []
    },
    {
      "cell_type": "code",
      "source": [
        "kode_nama['nama_diagnosis'].str.split(',').str.get(0).unique()"
      ],
      "metadata": {
        "colab": {
          "base_uri": "https://localhost:8080/"
        },
        "id": "cxU2_j6UyLNE",
        "outputId": "2c3f700b-cc99-4318-d0c5-7593394f5aa0"
      },
      "execution_count": 20,
      "outputs": [
        {
          "data": {
            "text/plain": [
              "array(['9999', 'Gastritis', 'Contraceptive management', ...,\n",
              "       'Intentional self-poisoning by and exposure to nonopioid analgesics',\n",
              "       'Falling', 'Parageusia'], dtype=object)"
            ]
          },
          "execution_count": 20,
          "metadata": {},
          "output_type": "execute_result"
        }
      ]
    },
    {
      "cell_type": "code",
      "source": [
        "kode_nama[kode_nama['nama_diagnosis'].str.contains('Exposure')]['kode_diagnosis'].unique()"
      ],
      "metadata": {
        "colab": {
          "base_uri": "https://localhost:8080/"
        },
        "id": "jA7_2uwKzpVP",
        "outputId": "d545240a-3ad8-4d65-9c25-e2346cf55e0b"
      },
      "execution_count": 21,
      "outputs": [
        {
          "data": {
            "text/plain": [
              "array(['X59', 'W49', 'X58', 'X00', 'X31', 'W87', 'W85', 'W89', 'W43',\n",
              "       'X09', 'W91', 'X39', 'W99', 'W64', 'Z58', 'X04', 'X08', 'X06'],\n",
              "      dtype=object)"
            ]
          },
          "execution_count": 21,
          "metadata": {},
          "output_type": "execute_result"
        }
      ]
    },
    {
      "cell_type": "markdown",
      "source": [
        "####Visualisasi"
      ],
      "metadata": {
        "id": "Q2e_JlJhOvbm"
      }
    },
    {
      "cell_type": "code",
      "source": [
        "sns.countplot(x='jenis_kunjungan_fktp' ,hue='status_pulang', data=df_train)\n",
        "#Jenis kunjungan"
      ],
      "metadata": {
        "id": "stmxAJT7OyVZ",
        "outputId": "7398ceee-01d3-4d75-bd9f-800e7e988ca2",
        "colab": {
          "base_uri": "https://localhost:8080/",
          "height": 309
        }
      },
      "execution_count": 22,
      "outputs": [
        {
          "data": {
            "text/plain": [
              "<matplotlib.axes._subplots.AxesSubplot at 0x7f6dfaca4810>"
            ]
          },
          "execution_count": 22,
          "metadata": {},
          "output_type": "execute_result"
        },
        {
          "data": {
            "image/png": "[encoded data removed]",
            "text/plain": [
              "<Figure size 432x288 with 1 Axes>"
            ]
          },
          "metadata": {},
          "output_type": "display_data"
        }
      ]
    },
    {
      "cell_type": "markdown",
      "source": [
        "![image.png](data:image/png;base64,iVBORw0KGgoAAAANSUhEUgAAAeoAAAAmCAYAAAALMNhBAAAAAXNSR0IArs4c6QAAAARnQU1BAACxjwv8YQUAAAAJcEhZcwAADsMAAA7DAcdvqGQAAAgKSURBVHhe7d0xayJbFAfwv+9TKMRCSLuNVRTSBPYDrJKFaPnK7SRdTApjurSpXxUXIpoPsGCzoFvZpA1MsQH9Fr5z7r0zGXU0cZyI0f8PJDrjXK8T8Mw59+pNAZgI+UNxpVIpPYnuERERUXL+cX+JiIhoCzFQExERbTEGaiIioi22OFC/tFBOpZD63sLYbSIiIqLNigzUg2sJ0DXgvFVyW4g2Z/yzjNT1wD0iItpvkYG6cDnB5KGCnHtMqxqj9T2F8s9QLeLPDVKpMlov7nFsA9ykZtreF67Kc/Mn/PhGzggR0e7iGPUmaEApDHH/t4PKgdsWWwEXkwk6Z2n3eI8cVNCR935x5B4TEe0BBuqPpkE6W0V+8BqkTWl3auzfZsk2U9RsXDNvu02/o52ayhrDz3XDFOEyscky/cz9rbZcX4J99mazdVsVCLaHXkOP0eeY13b7gyx3lsuC5563aPuccAVB79v3Zvot57WLOoraBudSENGOYqD+UD3cSDBBa7RiFthFNdvDiWSPk8kI96cSjGKP2S5pS4Llj0oefbNvgn4DKElfNVsfXGfg1ez2yaSP5lVxKph2Kxn0vtr9o1YJ9UJUCVqCfU0vUvx2/GxYAm7Ww7nbNhk0FxyvgbmIoetTWPqsg8nfe5TQtP1/qGAPawxEtAcYqD9Qt1KVfK+E8vHqIaQ5uEDB3Evj5FsJePJiZ4wL23rx0D3NBXMRcocldJ89c1/nKbxeXMhzToGhF+pBox/sTx+X5V0O4S0Yf6//mg3BWr73+yQOchHHe5LRRwdpIqJ9wkD9gTQ77Tcko62tV5ZN5/Lu3vqm2tIA2fYkJKoxeo9dlA79sB0ul2dQbbvNUaSd6B6mUXmQLP6paNsJl6fN5DrXvilhz7iqmtfM5xikiWi/RQZqf+wxU5GPz3YVmdkPWXq3wqUEKsg53MavG2lG7Y/xajCWnt6Z7FXHp202a0vWWjK3h6xOg7Vrwz8POj5tJte50rcpYc+QjN2WxJOYKU9E9HlFBmrz9Sx//NC/cQwwJg1UdozX/0qVyWrbHfRcABpcFyVcxqPlalz13PiuHROey04XGHtDk/XP/48lyw5nsy89dJZl1O+SRu4LbMZuLhDyyPmT6353ovt8dIFRC6hml30Fa3HJnYhoF7D0vREFXEh2qBOwzIQsCUCmJJ61lYvbw37sjDV9dmcniLms2KvJRYHb9xY9tvyYseVn/2Yyf9vfesFty3rIN+wxqwmXz1MoPrmM3bx/v88pZJ7zC/usk8bMc6MqOgcVnPvnkRUfItpRXOYyARpsNncO7UxoDNb/PrEOcRTRx+TSn9alJW8723vdtomIKBnMqD+lUlA2jm8M78mVogO25E1ERNuDgfoTsT9OUkS9cZ7AL5zZsfN8JVz6TiZTJyKi5LD0nYDNlr6JiGifmEBt7xIREdG2YUadAGbURET0UThGTUREtMUYqImIiLYYAzUREdEWY6AmIiLaYtGBOryykdz836gmIiKizYoI1APcFGAX49eb+Y3qH1zBiDZHLxT5291EREZEoJ5Z1P/oBBKquULRSvQ3s2cqEaZKkcSSjXahC1Y5oplfb9vGJUWJiGJ6e4z6xcMwkd+W3mPB+sudBH76Uy+kJuiYdaOJiGjXvRmoB/9V0U3kt6X3lAbpbBX5wWuQNlnfVGnXZslmCUyTjWvmHV4iMrwec/i58uha9oczSH29IHN/qy3Xl2Cfvdls3VYFgu2h19Bj9Dnmtd1+vz9zTH+inhfuk9wismAv1LepCkJkm7a/mUoXuCrOH0NE9EktDdT6gaxrCI+CZRBpNT3cSJBGa7TiQhe6xnIPJ2aewMiuNx27nLukLQl4Pyr5YD5CvwGUpK+arQ+u7XKXZp7CpI+mBL9wMNa1tXtf7f5Rq4R6YfoCwJLgWdOLFL8df8EPDapFDOW1FrWPdhW3uLP7p+ZJSIDPejh37ek++9q6yIjtCxp9s49VByLaBQsDtQbpjH6IP1TkI5Di6FaqqKOE8vHqZ7A58OcJpHHyTYLPkyfhLZ6Fbb146J7m4C90mTssofvsmfuFy/AqWvKcU2DohXogwdDfnz4uy7scLpzHUP81E8Jfeui0mzgPAmkB/2qwDz/v9B53/v6peRIzcygOcktfm4jos4sM1FrSzDyWMQp/INLKNDvtNySjra03gzmdy7t765tqS4Nc24MNzWP0Hruh9anDpekMqsvWqZZ2onuoWa5k8U+2FB2U+/UCQS5hikH7rmS9kL1QCIS/PpitSltERLtrPlC/tHB7JX/bVWRCH6T8ukw8hUsJVJBzGbt0/YGmAqYEY+mpzWJnS9NaMreHrM6WpE0b/nkwWXDz9SuA/u09Qyw6Pm0m5rlj/t5LW0REu2s+UB9U0Jn9ANUbS+AxaaCyY7D+5CaT1bY76Lly7eC6KOEyHi1X46rnxoftmPB7M8yxNzRZ//z/WLJsyaDzOfcfN6Vqeze+NHJfYDN2k4HXcRtnspe5uMgH30IY/+7Mv981hgmIiLbN0slklJQCLsyEqIydMHV0YUviWVutuD3sx85Y02d3doKYy4q9mlwUuH1v0WPLj5nXqoneTOZv+1svuG1ZD/mGPWY10zO7dWKizdh1nLmPvJyP4HXl9q5Z2ubcvZbNM8/5qfebPjtH01WDOOubiHYB16NOgAaMzZ1DDX5F+ROe7BWPzkUooh8qOWvJ2872XrdtIiJKBjPqTymJH6AZw3typeiALXkTEdG2AP4H0knwIwOqSekAAAAASUVORK5CYII=)"
      ],
      "metadata": {
        "id": "QS2yaqTHPVIg"
      }
    },
    {
      "cell_type": "markdown",
      "source": [
        "Sebagian besar pasien yang melakukan kunjungan sakit memiliki status belum sehat. begitupula sebaliknya"
      ],
      "metadata": {
        "id": "zFU-2zePPWYM"
      }
    },
    {
      "cell_type": "code",
      "source": [
        "df_train['kepemilikan_faskes_rujukan'].value_counts()"
      ],
      "metadata": {
        "id": "zTIUPjuJQQws",
        "outputId": "91d6b93b-4d27-47bc-d59a-55406d87dcf8",
        "colab": {
          "base_uri": "https://localhost:8080/"
        }
      },
      "execution_count": 23,
      "outputs": [
        {
          "data": {
            "text/plain": [
              "98    3677527\n",
              "9      208800\n",
              "3      117312\n",
              "2       16614\n",
              "5       13834\n",
              "4        8464\n",
              "8        7550\n",
              "7        2329\n",
              "1        2244\n",
              "6        2223\n",
              "Name: kepemilikan_faskes_rujukan, dtype: int64"
            ]
          },
          "execution_count": 23,
          "metadata": {},
          "output_type": "execute_result"
        }
      ]
    },
    {
      "cell_type": "markdown",
      "source": [
        "![image.png](data:image/png;base64,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)"
      ],
      "metadata": {
        "id": "PZ4beVX9ZRRh"
      }
    },
    {
      "cell_type": "code",
      "source": [
        "sns.countplot(x='kepemilikan_faskes_rujukan' ,hue='status_pulang', data=df_train)"
      ],
      "metadata": {
        "id": "NYCPZH-cZTER",
        "outputId": "654d3b62-09d8-4e8d-820c-a39da300b177",
        "colab": {
          "base_uri": "https://localhost:8080/",
          "height": 309
        }
      },
      "execution_count": 24,
      "outputs": [
        {
          "data": {
            "text/plain": [
              "<matplotlib.axes._subplots.AxesSubplot at 0x7f6e17425a10>"
            ]
          },
          "execution_count": 24,
          "metadata": {},
          "output_type": "execute_result"
        },
        {
          "data": {
            "image/png": "[encoded data removed]",
            "text/plain": [
              "<Figure size 432x288 with 1 Axes>"
            ]
          },
          "metadata": {},
          "output_type": "display_data"
        }
      ]
    },
    {
      "cell_type": "code",
      "source": [
        "df_train['jenis_faskes_rujukan'].value_counts()"
      ],
      "metadata": {
        "id": "nZdZBQa9Z1pQ",
        "outputId": "0d3d5a20-9433-4f3c-9183-77e6fc012644",
        "colab": {
          "base_uri": "https://localhost:8080/"
        }
      },
      "execution_count": 25,
      "outputs": [
        {
          "data": {
            "text/plain": [
              "98    3677527\n",
              "1      368251\n",
              "2       11119\n",
              "Name: jenis_faskes_rujukan, dtype: int64"
            ]
          },
          "execution_count": 25,
          "metadata": {},
          "output_type": "execute_result"
        }
      ]
    },
    {
      "cell_type": "markdown",
      "source": [
        "![image.png](data:image/png;base64,iVBORw0KGgoAAAANSUhEUgAAAUUAAABmCAYAAABcO4NxAAAAAXNSR0IArs4c6QAAAARnQU1BAACxjwv8YQUAAAAJcEhZcwAADsMAAA7DAcdvqGQAAA5vSURBVHhe7d09TxtbEwfwcT4FlqCwRJvGFbZ0G0u3expscaXY1VVKOuQOh4KYDtFRRrcySBfZaZ4ukptINhVN2kguEgm+BffMnHN2Z1/8sosJzvL/SasE73pZbDyec46ZKT0aBJmUSiXCwwZQTG/cvwAAYCAoAgAoCIoAAEoYFH9eUatUotJfV/TgbgIAeG0kKE4/mmB4RNS9asqNsAke6OqvEp3dui8B4JeQoFj78EiP/7apIjdBHvLGwpm235BxA/yWMKe4Fg80+0bUvLqXj+o8Pt7TgDpURmAE+O0gKD6LLWof9YluZjQzXz1ct2KZ45TOTDYZDI39fK7bUofMt2dmX4uuftovo5npmTmjZ8/t97Wu7Xfla+D/6/vx95Frix0rFlyTvk/0ewP8/hAUX9wDXR11qDrlDNNux3tul8cBsXZHgx9Dam/boFT/NqB7d/zktEf1jzY0TT/W6S7IWB9p+G5LbmejdpnGf9rb76+a1KuVqPy9a4+d9s3+Qxd0TWDdmVHXnYP39Wou+Jlgediu0sTvezymGt8OUBAIis/CBLqLHtFpY+WA0fsyJ9+amYxNBUQ+9/jziPpHbZOPWrW/B9Q8GQcZ2+jzOH3YfjoJAu7WHy1qUp8mH9wV7jXMVyOaSVCs0bEOdtsVc+yd28d6NMYCEBQUguIacSZmh5Rl6ryd0KMPOAuZofa/9zT4Vrf3jc1D9todE6qqVJGAyMyQ/MbcbrK8YAi7w8dYvGg2eduh8lOHtjJcT56ftts0/DGgO/f9I0NugAKQoOjnmcpt86t/415QWCTILFxoMdtKAdHjwMj3cws0bijM+mZYLcPj4PmoUOXA3h58r9gwVj5NYG6L3i8Dnk+U7NSd2wTByIe1ODC628m8EeBjQ1AkEhT9iyiy/RsOz+BptipV82YzpHGwSFI3A9A0W1R5a4LrbvTDUbUPOljaY3oXy4NdZdeEsreV7M/jz1kkO334OgwzRc0Mq6smXIZZLMDvD8PnX2Hv2GRtI+rs2Iz8fHdCA5PtWdHVYl5AuVSLIxZnkhPqn9RluBodIrtNMkL7gW9/W5kXRDJlrI5cr8ky/Xm+V6nvdkWG1SVe1Ll0c50AxYDSYTlwQMDDBlBMyBQBABQERQAABUERAEApmQ2TYwAADhZacsBCC0BxYfgMAKAgKAIAKAiKAAAKgiIAgGKDYuRPt1D5BABeLxMUp3RWo7BoaKTYKKwFv+mso+rQus4DAHOZoBgrKBopNgqrsYUYIhm2ZN9h+4CQLQCxWjae5Vgl1kqAt6eU9+LSchg9wGuRnFP8OaM7lIN6mqAeoa+WrfGbULRNwHxZjlWk9Fc/kv1zUVrUPQRYLhEUp/90aHTaRTmovDgg7nDPlbSAyKL9nOc1lLKix0a5MmGqIO1ce++lVNndjLM9vp/JYG99Numqc0fmlX2GazPV+klYVdxfS6Rxlh7S83nMNSUaYunz62uOZbUI3PDSIkExaIiUpwYfGGM6MwGRru6TzacWSDaUWtZGgANblpYHcSPq1HxjqmOqcWC6qASNsO6viDpHHOhspjo5DauK88/Fvyfnu9F2rod6eH1Sp0O6tPtljtoEVH9+ruJt9tvgZ4LuvAZZAC8kCIr8iy5FSVFxO7dRu0M9alLrj4yPYKKhlG4SlTT+mDEg3n6izk30uvpT3ZiqTUP1vNtK4bY9a5qtd0M1pLeVwEff1dEHqlCuzFE3aXDhzr/doFaQtS5rkAXw60lQ5KFQ+XPLvJOrX1DIjLMpqbAtWVZOUuJ/gZsOdcxwNt6yICmsnK3bo86jh7ulWnqzhJAburvjeXidmx5W6wZZAC/kDc/pnPMvtW9Y5Td89COXaD+VZ2CysPuVGkaphZbHxQGRA5OMEtQwdpGpz1Td8Ty8ziVYkHLfN94gC+AFvAk6s8U3DKNzivZTeRb8nMn8W9pHfrJ7mN2ZYFshn3tOvyQzxXB4/ECzbzpTndI4b6a4aoMsgF8o+ZEcWIMaHbsFhmdbTd07tgsiO09fmNh6d2mzWzdKOJdZwJBttm/7Up/dmqB/YTNVO6o4JzrNmd8tapAF8EJQTzEHfgHjYQMoJmSKAAAKgiIAgIKgCACgoHEVAICChZYcsNACUFwYPgMAKAiKAAAKgiIAgIKgCACg2KAYKTCK0vMA8HqZoIjGVZuBq1yvp8ADAORngmKs0KcUBYVsovUF155xS8n+dVaktm0GksUqEJgBEnOKD9fn1DtoUQM9WjLzJftlczUPV+qhAgAbIzGniJYEa8I1D6UfybnKvOIZ5fzsz1bCPqP/879SkdqV2AqK/9psLziXDr78fJqvfXOpvBkrXwPfN95US1fpDs+dzD7luMj1mp9XN6qSffrnQH8WeHk2KO4dqwynQufmFxSLLWsg/UhGNPzKj6VqNuUea6klmFLhnIOJrYR9TP97N3QVqV0lbXnD4nPV6S7ITG1R28hw2Hztm0tlbpGqJJtqcd3Drv2+meefzc97RHTpr1mqvZ9TRSpv39PgwOxHZg0vLDF85gynexprRAQ52aZO4ueYhjcmsKlmU1K89WZIYx1UvvrWAAv65bhzdYNgV6P3HLC+qICim0c9RaKplvoZZP55lKHRlGpgZa65IV0CL12rhC1q7DeJvs0SbxIAv5L0aGlF3p1tefnljZFgOVu6X0jp/ZhEk6oRddq9SGuAVHKusGI1b+U2CvkDrIP0aOmSLTVvNzsse8qQCxzJ6FxrUWnfGWOC2537r2UyqR8rNL6Sc+nGVG5buQe0CbpBm1ElcT0Ar48Mn2sfoi8uBMR1mEpj/NFp1w4PJSvs0bmaq53+Y/YnVvrnNb5S/ZBTzpWNHarG5wPlevz1ZmYDbTCENyOQQ2Sv8BtKzilCbrwooTNumursjT8POqGqOqb+bUD3qSv95ljdxlTmec3QesfcTxZmkufiLcviGDe0t42vwvvXKUOD/QTb0Mo3uCrtzKi7pFUqwCZCPcUc+EWPhw2gmJApAgAoCIoAAAqCIgCAgsZVAAAKFlpywEILQHFh+AwAoCAoAgAoCIoAAAqCIgCAYoOiLvzJW6wYgS4yyluyjD0AQDHY0mE7Hary3+k+8hYtRsAFT+VvdGWf2aZ96tXQx2N9khWr55FK1nmKsMqb3ss8Z7mvGeCFmKDItfn61HCFRH3B0kiR2beVsGhBWgmsVy29aZXdbCCSTDulwvbLsEE4f2V19/Mi0EFBuTlFVZbKcxWQt951JXO0LwJbDouCaslgS32pLNvc0g+y7qE8TlKabWP63nCFnaeUh3M/b+5qOgCb7Q33Z4mXkDr87PYKW6ZKAmOpTr11lbl/ReJDSD1H27qOt32IZZ5zM7JFGV/0HGdf3c3C7vPDdb621vU0OJ5vl+uNZLZ6iG/vr6dX5h8b99QsFeD5SabItfVsZmO3y33ZZ0mnvzE13L77/SGV0Rs4P/N41k/Cqtnd7x3quV1s+rFMsyP/XNg3o2SA4eAyv0L6w/UhdcjPA99T5TN3A5xv1K4H39P3Y1m/xdcMsClSPpLzQOPPI2ruN8xAyWQFFz1qXr03+aK19e6SBkGHOshq+iX6eNY+2CG3x0PtMDCltQ2YmUxtUXCxz1//yA/XXfFX+f8cqjnV81h2zQCbIxEUOVPpRDrFxTr7Sd8RomoFv9zZqUZWc9khph368nPhbvZOOnLb/Md/RrP4fV7a0msG2BwmKOoXYckN7Xx7zbBfiN/PjdnJvOM/b2ZRVKrlaSqer7MZlR0+cy9kt8szWd3ij0XZ7HKjLL1mgM1hgqJdjbQvQt7i/Ybj+9HY6ikqu9ww6pN5K7KmH+tqTtFmeUFG5bLyhGBx7Cw4T8gG3t6FX/wwgfZo8Zxi3FalSqT6UUevMWrlYxdeM8DmSJlThOfEi1qT07Bn8/hPnQ2aNyDJqHxWPqPqqdsVE5wn5fOPtQ+uTap8j0Oii+i85VImgE18oyxzjvPdSTJj9TIcu+iaATYF6inmwC/+1/uw8RC/TMN9LJpAMSFThFywaAJFhaAIq5PPrJblM5DvsdAGBYXhcw6ve/gMUGxoXAUAoCBTzAGZIkBxYU4RAEBBUAQAUBAUAQAUBEUAAMUGxUyNq/BH/QBQXEsbV3FA1I2r8Ef9AFBkSxpX2fp/tuCsJT1b0nq6vHI+m55Xaj++X8r4l/K9uci5UFQB4Fm4OcX5jatYpMisGCEoRrg3j4NoWbDQlMYnTbPffWnYFhDxMm2r2axGWADFsqRxVUqR2dI53W1aEdNNsd+lwUGPxrGeKg/X59Q77VJXF5jlvyNW2Z7NHP1jHGaQkflcd7wcG8z7cpFgc7yeF45kkbbRVHhu3jAvDDCPZIoLG1clisx2qbpp5e43RoUa+01V4JVN6VObaPD3gpzQBLTDdjVoZhVkkNzkSs3nzs8Oe1Q/IrqU48yb2E2HDoNh+iF13k7cebmuYpMGP2zrVQBISvlIjm5cleJ2bF6Ceg4SNJlzVZWo5fE6aFFjaRBKZphCn2suE+gufMCsUeM0nPKYfTfP5W5F/m9bFWDqA2CRRFBMa1wV4CFaLdqNDuI4KI2o8w8Pb203xLCz3hzbbRr+GNCdq7gdLNbsHdPjtBpMbaT3Uk7ilgeetD/wc8LS3qBJFWSJAHOZoLiocZWbv/L7XdMqVFxerPb3gJonY5refpI3mJWyag6MPMQ1wZHa5TAAcmDk23M2fuJMkfycsDx/lxg6AyxgguLixlXx+UYExBVsN6h10KN6nqx6u0JVMxxOZHPm9qbZky3L41VxnkPE8wewqpQ5RXi6LWofcauoJrX+WCEISUVrn61zi1ObzcWz9Oo060d4uBF+i4bqkwW8rToMB3iNUE8xBw4sv8fDxlMjdfPPY9inW/6CaUbdnJ+RBCg6ZIpF9nNGd/GhuPwFEwDMg6BYZLx4o1avZTPpoV5IAwCN6D9g5BQw/6KEmQAAAABJRU5ErkJggg==)"
      ],
      "metadata": {
        "id": "VLJjXUpfZ5RH"
      }
    },
    {
      "cell_type": "code",
      "source": [
        "sns.countplot(x='jenis_faskes_rujukan' ,hue='status_pulang', data=df_train)"
      ],
      "metadata": {
        "id": "rMZf3L0xZeri",
        "outputId": "eceae5cc-58bd-4813-d023-1efad69f09cd",
        "colab": {
          "base_uri": "https://localhost:8080/",
          "height": 309
        }
      },
      "execution_count": 26,
      "outputs": [
        {
          "data": {
            "text/plain": [
              "<matplotlib.axes._subplots.AxesSubplot at 0x7f6e21c305d0>"
            ]
          },
          "execution_count": 26,
          "metadata": {},
          "output_type": "execute_result"
        },
        {
          "output_type": "display_data",
          "data": {
            "text/plain": [
              "<Figure size 432x288 with 1 Axes>"
            ],
            "image/png": "[encoded data removed]"
          },
          "metadata": {
            "needs_background": "light"
          }
        }
      ]
    },
    {
      "cell_type": "markdown",
      "source": [
        "Dari beberapa kolom yang sudah diamati. kita bisa melihat korelasi antar seluruh kolom terhadap class menggunakan correlation matrix dan kemudian di visualisasikan menggunakan heatmap. "
      ],
      "metadata": {
        "id": "n2n97dp2AG80"
      }
    },
    {
      "cell_type": "markdown",
      "source": [
        "##Feature Selection"
      ],
      "metadata": {
        "id": "UW8aTc3WE7Tg"
      }
    },
    {
      "cell_type": "code",
      "source": [
        "# Encode status pulang sesuai dengan ketentuan\n",
        "df_train['status_pulang'] = df_train['status_pulang'].replace(['Sehat', 'Belum_Sehat'], [1,0])"
      ],
      "metadata": {
        "id": "mtf8YMJsMbn-"
      },
      "execution_count": 13,
      "outputs": []
    },
    {
      "cell_type": "code",
      "execution_count": 27,
      "metadata": {
        "colab": {
          "base_uri": "https://localhost:8080/",
          "height": 438
        },
        "id": "IrRDzd7AqE8r",
        "outputId": "1bbd14eb-5c1a-4147-f459-361e347c8cb7"
      },
      "outputs": [
        {
          "output_type": "execute_result",
          "data": {
            "text/plain": [
              "   nomor_peserta  nomor_keluarga       bobot id_kunjungan_fktp  \\\n",
              "0    157978748.0        50765420   20.064983         958073632   \n",
              "1     95085112.0        26931775    2.626307  449590620P000054   \n",
              "2    224470578.0       227368233    1.051830  467490619P000001   \n",
              "3     63871289.0        62313678  364.741455  254321219Y002368   \n",
              "4     29915626.0       113446188    1.050523   88681119P000020   \n",
              "\n",
              "  tgl_dtg_kunjungan_fktp tgl_plg_kunjungan_fktp  provinsi_fktp  kota_fktp  \\\n",
              "0             2019-08-01             2019-08-01             61       6108   \n",
              "1             2020-06-17             2020-06-17             51       5171   \n",
              "2             2019-06-01             2019-06-01             35       3516   \n",
              "3             2019-12-21             2019-12-21             34       3402   \n",
              "4             2019-11-04             2019-11-04             35       3509   \n",
              "\n",
              "   kepemilikan_fktp  jenis_fktp  ...  kode_diagnosis_2  \\\n",
              "0                 3           1  ...              9999   \n",
              "1                 9           3  ...              K297   \n",
              "2                 9           2  ...              Z309   \n",
              "3                 3           1  ...               I10   \n",
              "4                 3           1  ...              I110   \n",
              "\n",
              "                                      nama_diagnosis  provinsi_rujukan  \\\n",
              "0                                               9999                98   \n",
              "1                             Gastritis, unspecified                98   \n",
              "2              Contraceptive management, unspecified                98   \n",
              "3                   Essential (primary) hypertension                98   \n",
              "4  Hypertensive heart disease with (congestive) h...                98   \n",
              "\n",
              "   kota_rujukan  kepemilikan_faskes_rujukan jenis_faskes_rujukan  \\\n",
              "0          9998                          98                   98   \n",
              "1          9998                          98                   98   \n",
              "2          9998                          98                   98   \n",
              "3          9998                          98                   98   \n",
              "4          9998                          98                   98   \n",
              "\n",
              "  tipe_faskes_rujukan poli_faskes_rujukan  jenis_kunjungan_fktp  status_pulang  \n",
              "0                  98                  98                     2              1  \n",
              "1                  98                  98                     1              0  \n",
              "2                  98                  98                     1              0  \n",
              "3                  98                  98                     1              0  \n",
              "4                  98                  98                     1              0  \n",
              "\n",
              "[5 rows x 26 columns]"
            ],
            "text/html": [
              "\n",
              "  <div id=\"df-8de8a1e5-f358-497b-8d68-d5a42f859636\">\n",
              "    <div class=\"colab-df-container\">\n",
              "      <div>\n",
              "<style scoped>\n",
              "    .dataframe tbody tr th:only-of-type {\n",
              "        vertical-align: middle;\n",
              "    }\n",
              "\n",
              "    .dataframe tbody tr th {\n",
              "        vertical-align: top;\n",
              "    }\n",
              "\n",
              "    .dataframe thead th {\n",
              "        text-align: right;\n",
              "    }\n",
              "</style>\n",
              "<table border=\"1\" class=\"dataframe\">\n",
              "  <thead>\n",
              "    <tr style=\"text-align: right;\">\n",
              "      <th></th>\n",
              "      <th>nomor_peserta</th>\n",
              "      <th>nomor_keluarga</th>\n",
              "      <th>bobot</th>\n",
              "      <th>id_kunjungan_fktp</th>\n",
              "      <th>tgl_dtg_kunjungan_fktp</th>\n",
              "      <th>tgl_plg_kunjungan_fktp</th>\n",
              "      <th>provinsi_fktp</th>\n",
              "      <th>kota_fktp</th>\n",
              "      <th>kepemilikan_fktp</th>\n",
              "      <th>jenis_fktp</th>\n",
              "      <th>...</th>\n",
              "      <th>kode_diagnosis_2</th>\n",
              "      <th>nama_diagnosis</th>\n",
              "      <th>provinsi_rujukan</th>\n",
              "      <th>kota_rujukan</th>\n",
              "      <th>kepemilikan_faskes_rujukan</th>\n",
              "      <th>jenis_faskes_rujukan</th>\n",
              "      <th>tipe_faskes_rujukan</th>\n",
              "      <th>poli_faskes_rujukan</th>\n",
              "      <th>jenis_kunjungan_fktp</th>\n",
              "      <th>status_pulang</th>\n",
              "    </tr>\n",
              "  </thead>\n",
              "  <tbody>\n",
              "    <tr>\n",
              "      <th>0</th>\n",
              "      <td>157978748.0</td>\n",
              "      <td>50765420</td>\n",
              "      <td>20.064983</td>\n",
              "      <td>958073632</td>\n",
              "      <td>2019-08-01</td>\n",
              "      <td>2019-08-01</td>\n",
              "      <td>61</td>\n",
              "      <td>6108</td>\n",
              "      <td>3</td>\n",
              "      <td>1</td>\n",
              "      <td>...</td>\n",
              "      <td>9999</td>\n",
              "      <td>9999</td>\n",
              "      <td>98</td>\n",
              "      <td>9998</td>\n",
              "      <td>98</td>\n",
              "      <td>98</td>\n",
              "      <td>98</td>\n",
              "      <td>98</td>\n",
              "      <td>2</td>\n",
              "      <td>1</td>\n",
              "    </tr>\n",
              "    <tr>\n",
              "      <th>1</th>\n",
              "      <td>95085112.0</td>\n",
              "      <td>26931775</td>\n",
              "      <td>2.626307</td>\n",
              "      <td>449590620P000054</td>\n",
              "      <td>2020-06-17</td>\n",
              "      <td>2020-06-17</td>\n",
              "      <td>51</td>\n",
              "      <td>5171</td>\n",
              "      <td>9</td>\n",
              "      <td>3</td>\n",
              "      <td>...</td>\n",
              "      <td>K297</td>\n",
              "      <td>Gastritis, unspecified</td>\n",
              "      <td>98</td>\n",
              "      <td>9998</td>\n",
              "      <td>98</td>\n",
              "      <td>98</td>\n",
              "      <td>98</td>\n",
              "      <td>98</td>\n",
              "      <td>1</td>\n",
              "      <td>0</td>\n",
              "    </tr>\n",
              "    <tr>\n",
              "      <th>2</th>\n",
              "      <td>224470578.0</td>\n",
              "      <td>227368233</td>\n",
              "      <td>1.051830</td>\n",
              "      <td>467490619P000001</td>\n",
              "      <td>2019-06-01</td>\n",
              "      <td>2019-06-01</td>\n",
              "      <td>35</td>\n",
              "      <td>3516</td>\n",
              "      <td>9</td>\n",
              "      <td>2</td>\n",
              "      <td>...</td>\n",
              "      <td>Z309</td>\n",
              "      <td>Contraceptive management, unspecified</td>\n",
              "      <td>98</td>\n",
              "      <td>9998</td>\n",
              "      <td>98</td>\n",
              "      <td>98</td>\n",
              "      <td>98</td>\n",
              "      <td>98</td>\n",
              "      <td>1</td>\n",
              "      <td>0</td>\n",
              "    </tr>\n",
              "    <tr>\n",
              "      <th>3</th>\n",
              "      <td>63871289.0</td>\n",
              "      <td>62313678</td>\n",
              "      <td>364.741455</td>\n",
              "      <td>254321219Y002368</td>\n",
              "      <td>2019-12-21</td>\n",
              "      <td>2019-12-21</td>\n",
              "      <td>34</td>\n",
              "      <td>3402</td>\n",
              "      <td>3</td>\n",
              "      <td>1</td>\n",
              "      <td>...</td>\n",
              "      <td>I10</td>\n",
              "      <td>Essential (primary) hypertension</td>\n",
              "      <td>98</td>\n",
              "      <td>9998</td>\n",
              "      <td>98</td>\n",
              "      <td>98</td>\n",
              "      <td>98</td>\n",
              "      <td>98</td>\n",
              "      <td>1</td>\n",
              "      <td>0</td>\n",
              "    </tr>\n",
              "    <tr>\n",
              "      <th>4</th>\n",
              "      <td>29915626.0</td>\n",
              "      <td>113446188</td>\n",
              "      <td>1.050523</td>\n",
              "      <td>88681119P000020</td>\n",
              "      <td>2019-11-04</td>\n",
              "      <td>2019-11-04</td>\n",
              "      <td>35</td>\n",
              "      <td>3509</td>\n",
              "      <td>3</td>\n",
              "      <td>1</td>\n",
              "      <td>...</td>\n",
              "      <td>I110</td>\n",
              "      <td>Hypertensive heart disease with (congestive) h...</td>\n",
              "      <td>98</td>\n",
              "      <td>9998</td>\n",
              "      <td>98</td>\n",
              "      <td>98</td>\n",
              "      <td>98</td>\n",
              "      <td>98</td>\n",
              "      <td>1</td>\n",
              "      <td>0</td>\n",
              "    </tr>\n",
              "  </tbody>\n",
              "</table>\n",
              "<p>5 rows × 26 columns</p>\n",
              "</div>\n",
              "      <button class=\"colab-df-convert\" onclick=\"convertToInteractive('df-8de8a1e5-f358-497b-8d68-d5a42f859636')\"\n",
              "              title=\"Convert this dataframe to an interactive table.\"\n",
              "              style=\"display:none;\">\n",
              "        \n",
              "  <svg xmlns=\"http://www.w3.org/2000/svg\" height=\"24px\"viewBox=\"0 0 24 24\"\n",
              "       width=\"24px\">\n",
              "    <path d=\"M0 0h24v24H0V0z\" fill=\"none\"/>\n",
              "    <path d=\"M18.56 5.44l.94 2.06.94-2.06 2.06-.94-2.06-.94-.94-2.06-.94 2.06-2.06.94zm-11 1L8.5 8.5l.94-2.06 2.06-.94-2.06-.94L8.5 2.5l-.94 2.06-2.06.94zm10 10l.94 2.06.94-2.06 2.06-.94-2.06-.94-.94-2.06-.94 2.06-2.06.94z\"/><path d=\"M17.41 7.96l-1.37-1.37c-.4-.4-.92-.59-1.43-.59-.52 0-1.04.2-1.43.59L10.3 9.45l-7.72 7.72c-.78.78-.78 2.05 0 2.83L4 21.41c.39.39.9.59 1.41.59.51 0 1.02-.2 1.41-.59l7.78-7.78 2.81-2.81c.8-.78.8-2.07 0-2.86zM5.41 20L4 18.59l7.72-7.72 1.47 1.35L5.41 20z\"/>\n",
              "  </svg>\n",
              "      </button>\n",
              "      \n",
              "  <style>\n",
              "    .colab-df-container {\n",
              "      display:flex;\n",
              "      flex-wrap:wrap;\n",
              "      gap: 12px;\n",
              "    }\n",
              "\n",
              "    .colab-df-convert {\n",
              "      background-color: #E8F0FE;\n",
              "      border: none;\n",
              "      border-radius: 50%;\n",
              "      cursor: pointer;\n",
              "      display: none;\n",
              "      fill: #1967D2;\n",
              "      height: 32px;\n",
              "      padding: 0 0 0 0;\n",
              "      width: 32px;\n",
              "    }\n",
              "\n",
              "    .colab-df-convert:hover {\n",
              "      background-color: #E2EBFA;\n",
              "      box-shadow: 0px 1px 2px rgba(60, 64, 67, 0.3), 0px 1px 3px 1px rgba(60, 64, 67, 0.15);\n",
              "      fill: #174EA6;\n",
              "    }\n",
              "\n",
              "    [theme=dark] .colab-df-convert {\n",
              "      background-color: #3B4455;\n",
              "      fill: #D2E3FC;\n",
              "    }\n",
              "\n",
              "    [theme=dark] .colab-df-convert:hover {\n",
              "      background-color: #434B5C;\n",
              "      box-shadow: 0px 1px 3px 1px rgba(0, 0, 0, 0.15);\n",
              "      filter: drop-shadow(0px 1px 2px rgba(0, 0, 0, 0.3));\n",
              "      fill: #FFFFFF;\n",
              "    }\n",
              "  </style>\n",
              "\n",
              "      <script>\n",
              "        const buttonEl =\n",
              "          document.querySelector('#df-8de8a1e5-f358-497b-8d68-d5a42f859636 button.colab-df-convert');\n",
              "        buttonEl.style.display =\n",
              "          google.colab.kernel.accessAllowed ? 'block' : 'none';\n",
              "\n",
              "        async function convertToInteractive(key) {\n",
              "          const element = document.querySelector('#df-8de8a1e5-f358-497b-8d68-d5a42f859636');\n",
              "          const dataTable =\n",
              "            await google.colab.kernel.invokeFunction('convertToInteractive',\n",
              "                                                     [key], {});\n",
              "          if (!dataTable) return;\n",
              "\n",
              "          const docLinkHtml = 'Like what you see? Visit the ' +\n",
              "            '<a target=\"_blank\" href=https://colab.research.google.com/notebooks/data_table.ipynb>data table notebook</a>'\n",
              "            + ' to learn more about interactive tables.';\n",
              "          element.innerHTML = '';\n",
              "          dataTable['output_type'] = 'display_data';\n",
              "          await google.colab.output.renderOutput(dataTable, element);\n",
              "          const docLink = document.createElement('div');\n",
              "          docLink.innerHTML = docLinkHtml;\n",
              "          element.appendChild(docLink);\n",
              "        }\n",
              "      </script>\n",
              "    </div>\n",
              "  </div>\n",
              "  "
            ]
          },
          "metadata": {},
          "execution_count": 27
        }
      ],
      "source": [
        "# label_enc = LabelEncoder()\n",
        "\n",
        "# df_train.status_pulang = label_enc.fit_transform(df_train.status_pulang)\n",
        "# df_train.head()"
      ]
    },
    {
      "cell_type": "code",
      "source": [
        "#Pemilihan feature secara manual\n",
        "\n",
        "columns = ['provinsi_fktp',\n",
        "       'kota_fktp', \n",
        "       'kepemilikan_fktp', \n",
        "       'jenis_fktp', 'tipe_fktp',\n",
        "       'tingkat_pelayanan_fktp', \n",
        "       'jenis_poli_fktp', \n",
        "       'akses_layanan_fktp',\n",
        "       'kode_nama_diagnosis', \n",
        "       'kode_diagnosis', \n",
        "       'kode_diagnosis_2',\n",
        "       'provinsi_rujukan', \n",
        "       'kota_rujukan',\n",
        "       'kepemilikan_faskes_rujukan', \n",
        "       'jenis_faskes_rujukan',\n",
        "       'tipe_faskes_rujukan', \n",
        "       'poli_faskes_rujukan', \n",
        "       'jenis_kunjungan_fktp',\n",
        "       'status_pulang']"
      ],
      "metadata": {
        "id": "PK_37ifUD1by"
      },
      "execution_count": 28,
      "outputs": []
    },
    {
      "cell_type": "code",
      "source": [
        "df = pd.DataFrame(df_train[columns])"
      ],
      "metadata": {
        "id": "_os9BtvDFFLm"
      },
      "execution_count": 29,
      "outputs": []
    },
    {
      "cell_type": "code",
      "source": [
        "df_train.info()"
      ],
      "metadata": {
        "id": "b_gFYO8Hf3Uv",
        "outputId": "7cfb0fb8-29e6-4244-cc63-8711822292cd",
        "colab": {
          "base_uri": "https://localhost:8080/"
        }
      },
      "execution_count": 30,
      "outputs": [
        {
          "output_type": "stream",
          "name": "stdout",
          "text": [
            "<class 'pandas.core.frame.DataFrame'>\n",
            "Int64Index: 4056897 entries, 0 to 4056897\n",
            "Data columns (total 26 columns):\n",
            " #   Column                      Dtype  \n",
            "---  ------                      -----  \n",
            " 0   nomor_peserta               float64\n",
            " 1   nomor_keluarga              int64  \n",
            " 2   bobot                       float64\n",
            " 3   id_kunjungan_fktp           object \n",
            " 4   tgl_dtg_kunjungan_fktp      object \n",
            " 5   tgl_plg_kunjungan_fktp      object \n",
            " 6   provinsi_fktp               int64  \n",
            " 7   kota_fktp                   int64  \n",
            " 8   kepemilikan_fktp            int64  \n",
            " 9   jenis_fktp                  int64  \n",
            " 10  tipe_fktp                   int64  \n",
            " 11  tingkat_pelayanan_fktp      int64  \n",
            " 12  jenis_poli_fktp             float64\n",
            " 13  akses_layanan_fktp          int64  \n",
            " 14  kode_nama_diagnosis         int64  \n",
            " 15  kode_diagnosis              object \n",
            " 16  kode_diagnosis_2            object \n",
            " 17  nama_diagnosis              object \n",
            " 18  provinsi_rujukan            int64  \n",
            " 19  kota_rujukan                int64  \n",
            " 20  kepemilikan_faskes_rujukan  int64  \n",
            " 21  jenis_faskes_rujukan        int64  \n",
            " 22  tipe_faskes_rujukan         int64  \n",
            " 23  poli_faskes_rujukan         int64  \n",
            " 24  jenis_kunjungan_fktp        int64  \n",
            " 25  status_pulang               int64  \n",
            "dtypes: float64(3), int64(17), object(6)\n",
            "memory usage: 835.7+ MB\n"
          ]
        }
      ]
    },
    {
      "cell_type": "code",
      "source": [
        "df.info()"
      ],
      "metadata": {
        "id": "A2ujXUrJG5R7",
        "outputId": "5efc0c1a-5523-4fcd-ac91-8b44fe2b093d",
        "colab": {
          "base_uri": "https://localhost:8080/"
        }
      },
      "execution_count": 31,
      "outputs": [
        {
          "output_type": "stream",
          "name": "stdout",
          "text": [
            "<class 'pandas.core.frame.DataFrame'>\n",
            "Int64Index: 4056897 entries, 0 to 4056897\n",
            "Data columns (total 19 columns):\n",
            " #   Column                      Dtype  \n",
            "---  ------                      -----  \n",
            " 0   provinsi_fktp               int64  \n",
            " 1   kota_fktp                   int64  \n",
            " 2   kepemilikan_fktp            int64  \n",
            " 3   jenis_fktp                  int64  \n",
            " 4   tipe_fktp                   int64  \n",
            " 5   tingkat_pelayanan_fktp      int64  \n",
            " 6   jenis_poli_fktp             float64\n",
            " 7   akses_layanan_fktp          int64  \n",
            " 8   kode_nama_diagnosis         int64  \n",
            " 9   kode_diagnosis              object \n",
            " 10  kode_diagnosis_2            object \n",
            " 11  provinsi_rujukan            int64  \n",
            " 12  kota_rujukan                int64  \n",
            " 13  kepemilikan_faskes_rujukan  int64  \n",
            " 14  jenis_faskes_rujukan        int64  \n",
            " 15  tipe_faskes_rujukan         int64  \n",
            " 16  poli_faskes_rujukan         int64  \n",
            " 17  jenis_kunjungan_fktp        int64  \n",
            " 18  status_pulang               int64  \n",
            "dtypes: float64(1), int64(16), object(2)\n",
            "memory usage: 619.0+ MB\n"
          ]
        }
      ]
    },
    {
      "cell_type": "markdown",
      "source": [
        "Create a correlation matrix to measure the correlation between the all variables. \n",
        "Note that correlation matrix just work perfectly on numerical data"
      ],
      "metadata": {
        "id": "gwSvDiQjGk9G"
      }
    },
    {
      "cell_type": "code",
      "source": [
        "#Encode kode_diagnosis \n",
        "\n",
        "oe = OrdinalEncoder()\n",
        "oe.fit(df[['kode_diagnosis', 'kode_diagnosis_2']])\n",
        "df[['kode_diagnosis', 'kode_diagnosis_2']] = oe.transform(df[['kode_diagnosis', 'kode_diagnosis_2']])"
      ],
      "metadata": {
        "id": "1iuYbKW9eAM2"
      },
      "execution_count": 32,
      "outputs": []
    },
    {
      "cell_type": "code",
      "source": [
        "corr = df.corr()\n",
        "#\n",
        "# Set up the matplotlib plot configuration\n",
        "#\n",
        "f, ax = plt.subplots(figsize=(15, 10))\n",
        "#\n",
        "# Generate a mask for upper traingle\n",
        "#\n",
        "mask = np.triu(np.ones_like(corr, dtype=bool))\n",
        "#\n",
        "# Configure a custom diverging colormap\n",
        "#\n",
        "cmap = sns.diverging_palette(230, 20, as_cmap=True)\n",
        "#\n",
        "# Draw the heatmap\n",
        "#\n",
        "sns.heatmap(corr, annot=True, mask = mask, cmap=cmap)"
      ],
      "metadata": {
        "id": "BDSOERCMFdn0",
        "outputId": "8fcd49bf-0c2d-459f-f425-9998e4d9236f",
        "colab": {
          "base_uri": "https://localhost:8080/",
          "height": 739
        }
      },
      "execution_count": 33,
      "outputs": [
        {
          "output_type": "execute_result",
          "data": {
            "text/plain": [
              "<matplotlib.axes._subplots.AxesSubplot at 0x7f6e0e0ea250>"
            ]
          },
          "metadata": {},
          "execution_count": 33
        },
        {
          "output_type": "display_data",
          "data": {
            "text/plain": [
              "<Figure size 1080x720 with 2 Axes>"
            ],
            "image/png": "[encoded data removed]"
          },
          "metadata": {
            "needs_background": "light"
          }
        }
      ]
    },
    {
      "cell_type": "markdown",
      "source": [
        "Dari heatmapp correlation diatas dapat disimpulkan bahwa fitur yang memiliki korelasi paling tinggi terhadap status_pulang adalah jenis_poli_fktp, kode_nama_diagnosis dan jenis_kunjungan_fktp. \n",
        "\n",
        "Tetapi kita bisa menggunakan fitur yang memiliki korelasi positif terhadap status pulang. \n",
        "1. tipe_fktp\n",
        "2. tingkat_pelayanan_fktp\n",
        "3. jenis_poli_fktp\n",
        "4. kode_nama_diagnosis\n",
        "5. provinsi_rujukan\n",
        "6. kota_rujukan\n",
        "7. kepemilikan_faskes_rujukan\n",
        "8. jenis_faskes_rujukan\n",
        "9. tipe_faskes_rujukan\n",
        "10. jenis_kunjungan_fktp \n",
        "\n",
        "Tetapi terdapat beberapa fitur yang tidak masuk kedalam heatmap diatas. Sehingga kita bisa memanfaatkan feature selection dari library"
      ],
      "metadata": {
        "id": "l9AsZmzwijkd"
      }
    },
    {
      "cell_type": "code",
      "source": [
        "corr_columns = ['tipe_fktp',\n",
        "                'tingkat_pelayanan_fktp',\n",
        "                'jenis_poli_fktp',\n",
        "                'kode_nama_diagnosis',\n",
        "                'provinsi_rujukan',\n",
        "                'kota_rujukan',\n",
        "                'kepemilikan_faskes_rujukan',\n",
        "                'jenis_faskes_rujukan',\n",
        "                'tipe_faskes_rujukan',\n",
        "                'jenis_kunjungan_fktp']"
      ],
      "metadata": {
        "id": "B5bKMxu0g7Dt"
      },
      "execution_count": 34,
      "outputs": []
    },
    {
      "cell_type": "code",
      "execution_count": 35,
      "metadata": {
        "id": "ZfUhA0IBqE8s"
      },
      "outputs": [],
      "source": [
        "# x_train = df_train.iloc[:, :-1]\n",
        "# y_train = df_train.iloc[:, -1]\n",
        "\n",
        "#Manually Feature Schema (All Feature not including date, id and name (18/25 Columns))\n",
        "# X_train = df.iloc[:,:-1]\n",
        "# y_train = df.iloc[: ,-1]\n",
        "\n",
        "#Correlation Feature Schema (From 18/25 Columns choose columns having positive correlations)\n",
        "X_train = df[corr_columns]\n",
        "y_train = df.iloc[:,-1]"
      ]
    },
    {
      "cell_type": "markdown",
      "source": [
        "####Feature Selection"
      ],
      "metadata": {
        "id": "TMIN6_uiEH8c"
      }
    },
    {
      "cell_type": "code",
      "source": [
        "# fs = SelectKBest(score_func=chi2, k=5)\n",
        "# fs.fit(X_train, y_train)"
      ],
      "metadata": {
        "id": "NrnMRQDjQQc9"
      },
      "execution_count": 36,
      "outputs": []
    },
    {
      "cell_type": "code",
      "source": [
        "# featured_cols = fs.get_support(indices=True)\n",
        "# X_train = X_train.iloc[:,featured_cols]"
      ],
      "metadata": {
        "id": "UqWtHWXF93gy"
      },
      "execution_count": 37,
      "outputs": []
    },
    {
      "cell_type": "code",
      "source": [
        "# selected_feature = X_train.columns\n",
        "# selected_feature"
      ],
      "metadata": {
        "id": "TgUoAcOSDw1-"
      },
      "execution_count": 38,
      "outputs": []
    },
    {
      "cell_type": "markdown",
      "source": [
        "###Train-Test Split from training dataset"
      ],
      "metadata": {
        "id": "mj9NYZT5Tzng"
      }
    },
    {
      "cell_type": "code",
      "source": [
        "from sklearn.model_selection import train_test_split"
      ],
      "metadata": {
        "id": "nslM6oalT59q"
      },
      "execution_count": 39,
      "outputs": []
    },
    {
      "cell_type": "code",
      "source": [
        "x_train, x_test, y_train, y_test = train_test_split( X_train, y_train, test_size=0.33, random_state=101)"
      ],
      "metadata": {
        "id": "6agFTZw6Ueak"
      },
      "execution_count": 40,
      "outputs": []
    },
    {
      "cell_type": "markdown",
      "metadata": {
        "id": "IeVq-j5lqE8t"
      },
      "source": [
        "# Model Benchmark"
      ]
    },
    {
      "cell_type": "markdown",
      "metadata": {
        "id": "ZaXKoE6kqE8u"
      },
      "source": [
        "Example sklearn f1 score\n",
        "```python\n",
        ">>> from sklearn.metrics import f1_score\n",
        ">>> y_true = [0, 1, 2, 0, 1, 2]\n",
        ">>> y_pred = [0, 2, 1, 0, 0, 1]\n",
        ">>> f1_score(y_true, y_pred, average='macro')\n",
        "0.26...\n",
        ">>> f1_score(y_true, y_pred, average='micro')\n",
        "0.33...\n",
        ">>> f1_score(y_true, y_pred, average='weighted')\n",
        "0.26...\n",
        ">>> f1_score(y_true, y_pred, average=None)\n",
        "array([0.8, 0. , 0. ])\n",
        ">>> y_true = [0, 0, 0, 0, 0, 0]\n",
        ">>> y_pred = [0, 0, 0, 0, 0, 0]\n",
        ">>> f1_score(y_true, y_pred, zero_division=1)\n",
        "1.0...\n",
        ">>> # multilabel classification\n",
        ">>> y_true = [[0, 0, 0], [1, 1, 1], [0, 1, 1]]\n",
        ">>> y_pred = [[0, 0, 0], [1, 1, 1], [1, 1, 0]]\n",
        ">>> f1_score(y_true, y_pred, average=None)\n",
        "array([0.66666667, 1.        , 0.66666667])\n",
        "```"
      ]
    },
    {
      "cell_type": "markdown",
      "source": [
        "####Logistic Regression"
      ],
      "metadata": {
        "id": "EqZnfMP3WrgV"
      }
    },
    {
      "cell_type": "code",
      "execution_count": null,
      "metadata": {
        "id": "KbI9WGb-qE8v"
      },
      "outputs": [],
      "source": [
        "model = LogisticRegression()\n",
        "model.fit(x_train, y_train)\n",
        "predicted=model.predict(x_test)"
      ]
    },
    {
      "cell_type": "code",
      "source": [
        "f1_score(y_test, predicted, average='weighted')"
      ],
      "metadata": {
        "id": "KscqsqAGWpfy"
      },
      "execution_count": null,
      "outputs": []
    },
    {
      "cell_type": "markdown",
      "source": [
        "####GaussianNB"
      ],
      "metadata": {
        "id": "cGPhcJFoW53h"
      }
    },
    {
      "cell_type": "code",
      "execution_count": null,
      "metadata": {
        "id": "HSnhyAbIqE8v"
      },
      "outputs": [],
      "source": [
        "model = GaussianNB()\n",
        "model.fit(x_train, y_train)  \n",
        "predicted = model.predict(x_test)\n",
        "f1_score(y_test, predicted, average='weighted')"
      ]
    },
    {
      "cell_type": "markdown",
      "source": [
        "####BernouliNB"
      ],
      "metadata": {
        "id": "0TXxIYStW-lO"
      }
    },
    {
      "cell_type": "code",
      "execution_count": null,
      "metadata": {
        "id": "lWzbq7aWqE8w"
      },
      "outputs": [],
      "source": [
        "model = BernoulliNB()\n",
        "model.fit(x_train, y_train)\n",
        "predicted = model.predict(x_test)\n",
        "f1_score(y_test, predicted, average='weighted')"
      ]
    },
    {
      "cell_type": "markdown",
      "source": [
        "####SVM"
      ],
      "metadata": {
        "id": "qLzfJ8X-XDtf"
      }
    },
    {
      "cell_type": "code",
      "execution_count": null,
      "metadata": {
        "id": "VLzn18BDqE8w"
      },
      "outputs": [],
      "source": [
        "# model = SVC()\n",
        "# model.fit(x_train, y_train)\n",
        "# predicted = model.predict(x_test)\n",
        "# f1_score(y_test, predicted, average='weighted')"
      ]
    },
    {
      "cell_type": "markdown",
      "source": [
        "####RandomForest"
      ],
      "metadata": {
        "id": "9OxCCbj8XKXL"
      }
    },
    {
      "cell_type": "code",
      "execution_count": null,
      "metadata": {
        "id": "43DVXdgGqE8x"
      },
      "outputs": [],
      "source": [
        "model = RandomForestClassifier(n_estimators = 100, random_state = 0)  \n",
        "model.fit(x_train, y_train)  \n",
        "predicted = model.predict(x_test)\n",
        "f1_score(y_test, predicted, average='weighted')"
      ]
    },
    {
      "cell_type": "markdown",
      "source": [
        "####KNeighborClassifier"
      ],
      "metadata": {
        "id": "EGJSdKPcXTjZ"
      }
    },
    {
      "cell_type": "code",
      "execution_count": null,
      "metadata": {
        "id": "hQlp3IlTqE8x"
      },
      "outputs": [],
      "source": [
        "# model = KNeighborsClassifier(n_neighbors = 1)  \n",
        "# model.fit(x_train, y_train)\n",
        "# predicted = model.predict(x_test)\n",
        "# f1_score(y_test, predicted, average='weighted')"
      ]
    },
    {
      "cell_type": "markdown",
      "source": [
        "####XGBClassifier"
      ],
      "metadata": {
        "id": "k1BXsnLeXZm8"
      }
    },
    {
      "cell_type": "code",
      "execution_count": 48,
      "metadata": {
        "id": "x84NdRuAqE8y",
        "outputId": "d6be598c-c48c-4ce7-cbdc-2399dd109a29",
        "colab": {
          "base_uri": "https://localhost:8080/"
        }
      },
      "outputs": [
        {
          "output_type": "execute_result",
          "data": {
            "text/plain": [
              "0.9976222380903488"
            ]
          },
          "metadata": {},
          "execution_count": 48
        }
      ],
      "source": [
        "model = XGBClassifier(use_label_encoder=False)\n",
        "model.fit(x_train, y_train)\n",
        "predicted = model.predict(x_test)\n",
        "f1_score(y_test, predicted, average='weighted')"
      ]
    },
    {
      "cell_type": "markdown",
      "source": [
        "#Data test"
      ],
      "metadata": {
        "id": "E3z2T_IIsC7n"
      }
    },
    {
      "cell_type": "code",
      "execution_count": 49,
      "metadata": {
        "id": "SVlUvfuRqE8r",
        "outputId": "b0a04886-58f1-434a-ac4a-99a7a4ce6bd9",
        "colab": {
          "base_uri": "https://localhost:8080/",
          "height": 336
        }
      },
      "outputs": [
        {
          "output_type": "stream",
          "name": "stderr",
          "text": [
            "/usr/local/lib/python3.7/dist-packages/IPython/core/interactiveshell.py:3326: DtypeWarning: Columns (3,15,16,17) have mixed types.Specify dtype option on import or set low_memory=False.\n",
            "  exec(code_obj, self.user_global_ns, self.user_ns)\n"
          ]
        },
        {
          "output_type": "execute_result",
          "data": {
            "text/plain": [
              "   nomor_peserta  nomor_keluarga       bobot id_kunjungan_fktp  \\\n",
              "0    187883292.0        98048784  240.884842         954386050   \n",
              "1    123307139.0        20969999   47.378571         774246805   \n",
              "2     21416273.0        21416273    5.882927        1202010273   \n",
              "3     97630052.0        97630052  172.916031        1286640248   \n",
              "4    124531163.0       124531163  187.203140        1285179242   \n",
              "\n",
              "  tgl_dtg_kunjungan_fktp tgl_plg_kunjungan_fktp  provinsi_fktp  kota_fktp  \\\n",
              "0             2019-08-21             2019-08-21             31       3172   \n",
              "1             2019-02-12             2019-02-12             17       1705   \n",
              "2             2020-03-27             2020-03-27             64       6402   \n",
              "3             2020-07-30             2020-07-30             18       1872   \n",
              "4             2020-07-28             2020-07-28             18       1809   \n",
              "\n",
              "   kepemilikan_fktp  jenis_fktp  ...  kode_diagnosis  kode_diagnosis_2  \\\n",
              "0                 9           2  ...             NaN              9999   \n",
              "1                 3           1  ...             NaN              9999   \n",
              "2                 3           1  ...             NaN              9999   \n",
              "3                 9           2  ...             NaN              9999   \n",
              "4                 9           2  ...             NaN              9999   \n",
              "\n",
              "   nama_diagnosis  provinsi_rujukan  kota_rujukan kepemilikan_faskes_rujukan  \\\n",
              "0            9999                98          9998                         98   \n",
              "1            9999                98          9998                         98   \n",
              "2            9999                98          9998                         98   \n",
              "3            9999                98          9998                         98   \n",
              "4            9999                98          9998                         98   \n",
              "\n",
              "  jenis_faskes_rujukan tipe_faskes_rujukan  poli_faskes_rujukan  \\\n",
              "0                   98                  98                   98   \n",
              "1                   98                  98                   98   \n",
              "2                   98                  98                   98   \n",
              "3                   98                  98                   98   \n",
              "4                   98                  98                   98   \n",
              "\n",
              "   jenis_kunjungan_fktp  \n",
              "0                     2  \n",
              "1                     2  \n",
              "2                     2  \n",
              "3                     2  \n",
              "4                     2  \n",
              "\n",
              "[5 rows x 25 columns]"
            ],
            "text/html": [
              "\n",
              "  <div id=\"df-f2da02a3-12e8-47a2-9029-e9b45c7ea53f\">\n",
              "    <div class=\"colab-df-container\">\n",
              "      <div>\n",
              "<style scoped>\n",
              "    .dataframe tbody tr th:only-of-type {\n",
              "        vertical-align: middle;\n",
              "    }\n",
              "\n",
              "    .dataframe tbody tr th {\n",
              "        vertical-align: top;\n",
              "    }\n",
              "\n",
              "    .dataframe thead th {\n",
              "        text-align: right;\n",
              "    }\n",
              "</style>\n",
              "<table border=\"1\" class=\"dataframe\">\n",
              "  <thead>\n",
              "    <tr style=\"text-align: right;\">\n",
              "      <th></th>\n",
              "      <th>nomor_peserta</th>\n",
              "      <th>nomor_keluarga</th>\n",
              "      <th>bobot</th>\n",
              "      <th>id_kunjungan_fktp</th>\n",
              "      <th>tgl_dtg_kunjungan_fktp</th>\n",
              "      <th>tgl_plg_kunjungan_fktp</th>\n",
              "      <th>provinsi_fktp</th>\n",
              "      <th>kota_fktp</th>\n",
              "      <th>kepemilikan_fktp</th>\n",
              "      <th>jenis_fktp</th>\n",
              "      <th>...</th>\n",
              "      <th>kode_diagnosis</th>\n",
              "      <th>kode_diagnosis_2</th>\n",
              "      <th>nama_diagnosis</th>\n",
              "      <th>provinsi_rujukan</th>\n",
              "      <th>kota_rujukan</th>\n",
              "      <th>kepemilikan_faskes_rujukan</th>\n",
              "      <th>jenis_faskes_rujukan</th>\n",
              "      <th>tipe_faskes_rujukan</th>\n",
              "      <th>poli_faskes_rujukan</th>\n",
              "      <th>jenis_kunjungan_fktp</th>\n",
              "    </tr>\n",
              "  </thead>\n",
              "  <tbody>\n",
              "    <tr>\n",
              "      <th>0</th>\n",
              "      <td>187883292.0</td>\n",
              "      <td>98048784</td>\n",
              "      <td>240.884842</td>\n",
              "      <td>954386050</td>\n",
              "      <td>2019-08-21</td>\n",
              "      <td>2019-08-21</td>\n",
              "      <td>31</td>\n",
              "      <td>3172</td>\n",
              "      <td>9</td>\n",
              "      <td>2</td>\n",
              "      <td>...</td>\n",
              "      <td>NaN</td>\n",
              "      <td>9999</td>\n",
              "      <td>9999</td>\n",
              "      <td>98</td>\n",
              "      <td>9998</td>\n",
              "      <td>98</td>\n",
              "      <td>98</td>\n",
              "      <td>98</td>\n",
              "      <td>98</td>\n",
              "      <td>2</td>\n",
              "    </tr>\n",
              "    <tr>\n",
              "      <th>1</th>\n",
              "      <td>123307139.0</td>\n",
              "      <td>20969999</td>\n",
              "      <td>47.378571</td>\n",
              "      <td>774246805</td>\n",
              "      <td>2019-02-12</td>\n",
              "      <td>2019-02-12</td>\n",
              "      <td>17</td>\n",
              "      <td>1705</td>\n",
              "      <td>3</td>\n",
              "      <td>1</td>\n",
              "      <td>...</td>\n",
              "      <td>NaN</td>\n",
              "      <td>9999</td>\n",
              "      <td>9999</td>\n",
              "      <td>98</td>\n",
              "      <td>9998</td>\n",
              "      <td>98</td>\n",
              "      <td>98</td>\n",
              "      <td>98</td>\n",
              "      <td>98</td>\n",
              "      <td>2</td>\n",
              "    </tr>\n",
              "    <tr>\n",
              "      <th>2</th>\n",
              "      <td>21416273.0</td>\n",
              "      <td>21416273</td>\n",
              "      <td>5.882927</td>\n",
              "      <td>1202010273</td>\n",
              "      <td>2020-03-27</td>\n",
              "      <td>2020-03-27</td>\n",
              "      <td>64</td>\n",
              "      <td>6402</td>\n",
              "      <td>3</td>\n",
              "      <td>1</td>\n",
              "      <td>...</td>\n",
              "      <td>NaN</td>\n",
              "      <td>9999</td>\n",
              "      <td>9999</td>\n",
              "      <td>98</td>\n",
              "      <td>9998</td>\n",
              "      <td>98</td>\n",
              "      <td>98</td>\n",
              "      <td>98</td>\n",
              "      <td>98</td>\n",
              "      <td>2</td>\n",
              "    </tr>\n",
              "    <tr>\n",
              "      <th>3</th>\n",
              "      <td>97630052.0</td>\n",
              "      <td>97630052</td>\n",
              "      <td>172.916031</td>\n",
              "      <td>1286640248</td>\n",
              "      <td>2020-07-30</td>\n",
              "      <td>2020-07-30</td>\n",
              "      <td>18</td>\n",
              "      <td>1872</td>\n",
              "      <td>9</td>\n",
              "      <td>2</td>\n",
              "      <td>...</td>\n",
              "      <td>NaN</td>\n",
              "      <td>9999</td>\n",
              "      <td>9999</td>\n",
              "      <td>98</td>\n",
              "      <td>9998</td>\n",
              "      <td>98</td>\n",
              "      <td>98</td>\n",
              "      <td>98</td>\n",
              "      <td>98</td>\n",
              "      <td>2</td>\n",
              "    </tr>\n",
              "    <tr>\n",
              "      <th>4</th>\n",
              "      <td>124531163.0</td>\n",
              "      <td>124531163</td>\n",
              "      <td>187.203140</td>\n",
              "      <td>1285179242</td>\n",
              "      <td>2020-07-28</td>\n",
              "      <td>2020-07-28</td>\n",
              "      <td>18</td>\n",
              "      <td>1809</td>\n",
              "      <td>9</td>\n",
              "      <td>2</td>\n",
              "      <td>...</td>\n",
              "      <td>NaN</td>\n",
              "      <td>9999</td>\n",
              "      <td>9999</td>\n",
              "      <td>98</td>\n",
              "      <td>9998</td>\n",
              "      <td>98</td>\n",
              "      <td>98</td>\n",
              "      <td>98</td>\n",
              "      <td>98</td>\n",
              "      <td>2</td>\n",
              "    </tr>\n",
              "  </tbody>\n",
              "</table>\n",
              "<p>5 rows × 25 columns</p>\n",
              "</div>\n",
              "      <button class=\"colab-df-convert\" onclick=\"convertToInteractive('df-f2da02a3-12e8-47a2-9029-e9b45c7ea53f')\"\n",
              "              title=\"Convert this dataframe to an interactive table.\"\n",
              "              style=\"display:none;\">\n",
              "        \n",
              "  <svg xmlns=\"http://www.w3.org/2000/svg\" height=\"24px\"viewBox=\"0 0 24 24\"\n",
              "       width=\"24px\">\n",
              "    <path d=\"M0 0h24v24H0V0z\" fill=\"none\"/>\n",
              "    <path d=\"M18.56 5.44l.94 2.06.94-2.06 2.06-.94-2.06-.94-.94-2.06-.94 2.06-2.06.94zm-11 1L8.5 8.5l.94-2.06 2.06-.94-2.06-.94L8.5 2.5l-.94 2.06-2.06.94zm10 10l.94 2.06.94-2.06 2.06-.94-2.06-.94-.94-2.06-.94 2.06-2.06.94z\"/><path d=\"M17.41 7.96l-1.37-1.37c-.4-.4-.92-.59-1.43-.59-.52 0-1.04.2-1.43.59L10.3 9.45l-7.72 7.72c-.78.78-.78 2.05 0 2.83L4 21.41c.39.39.9.59 1.41.59.51 0 1.02-.2 1.41-.59l7.78-7.78 2.81-2.81c.8-.78.8-2.07 0-2.86zM5.41 20L4 18.59l7.72-7.72 1.47 1.35L5.41 20z\"/>\n",
              "  </svg>\n",
              "      </button>\n",
              "      \n",
              "  <style>\n",
              "    .colab-df-container {\n",
              "      display:flex;\n",
              "      flex-wrap:wrap;\n",
              "      gap: 12px;\n",
              "    }\n",
              "\n",
              "    .colab-df-convert {\n",
              "      background-color: #E8F0FE;\n",
              "      border: none;\n",
              "      border-radius: 50%;\n",
              "      cursor: pointer;\n",
              "      display: none;\n",
              "      fill: #1967D2;\n",
              "      height: 32px;\n",
              "      padding: 0 0 0 0;\n",
              "      width: 32px;\n",
              "    }\n",
              "\n",
              "    .colab-df-convert:hover {\n",
              "      background-color: #E2EBFA;\n",
              "      box-shadow: 0px 1px 2px rgba(60, 64, 67, 0.3), 0px 1px 3px 1px rgba(60, 64, 67, 0.15);\n",
              "      fill: #174EA6;\n",
              "    }\n",
              "\n",
              "    [theme=dark] .colab-df-convert {\n",
              "      background-color: #3B4455;\n",
              "      fill: #D2E3FC;\n",
              "    }\n",
              "\n",
              "    [theme=dark] .colab-df-convert:hover {\n",
              "      background-color: #434B5C;\n",
              "      box-shadow: 0px 1px 3px 1px rgba(0, 0, 0, 0.15);\n",
              "      filter: drop-shadow(0px 1px 2px rgba(0, 0, 0, 0.3));\n",
              "      fill: #FFFFFF;\n",
              "    }\n",
              "  </style>\n",
              "\n",
              "      <script>\n",
              "        const buttonEl =\n",
              "          document.querySelector('#df-f2da02a3-12e8-47a2-9029-e9b45c7ea53f button.colab-df-convert');\n",
              "        buttonEl.style.display =\n",
              "          google.colab.kernel.accessAllowed ? 'block' : 'none';\n",
              "\n",
              "        async function convertToInteractive(key) {\n",
              "          const element = document.querySelector('#df-f2da02a3-12e8-47a2-9029-e9b45c7ea53f');\n",
              "          const dataTable =\n",
              "            await google.colab.kernel.invokeFunction('convertToInteractive',\n",
              "                                                     [key], {});\n",
              "          if (!dataTable) return;\n",
              "\n",
              "          const docLinkHtml = 'Like what you see? Visit the ' +\n",
              "            '<a target=\"_blank\" href=https://colab.research.google.com/notebooks/data_table.ipynb>data table notebook</a>'\n",
              "            + ' to learn more about interactive tables.';\n",
              "          element.innerHTML = '';\n",
              "          dataTable['output_type'] = 'display_data';\n",
              "          await google.colab.output.renderOutput(dataTable, element);\n",
              "          const docLink = document.createElement('div');\n",
              "          docLink.innerHTML = docLinkHtml;\n",
              "          element.appendChild(docLink);\n",
              "        }\n",
              "      </script>\n",
              "    </div>\n",
              "  </div>\n",
              "  "
            ]
          },
          "metadata": {},
          "execution_count": 49
        }
      ],
      "source": [
        "df_test = pd.read_csv(\"test_fktp.txt\", sep=',', header=None, names=cols[:-1])\n",
        "df_test.head()"
      ]
    },
    {
      "cell_type": "code",
      "source": [
        "df_test.isna().sum()"
      ],
      "metadata": {
        "id": "igO-CzYZVomD",
        "outputId": "6ee408da-6449-4ccb-a0ad-42c5974f36de",
        "colab": {
          "base_uri": "https://localhost:8080/"
        }
      },
      "execution_count": 50,
      "outputs": [
        {
          "output_type": "execute_result",
          "data": {
            "text/plain": [
              "nomor_peserta                      0\n",
              "nomor_keluarga                     0\n",
              "bobot                              0\n",
              "id_kunjungan_fktp                  0\n",
              "tgl_dtg_kunjungan_fktp             0\n",
              "tgl_plg_kunjungan_fktp             0\n",
              "provinsi_fktp                      0\n",
              "kota_fktp                          0\n",
              "kepemilikan_fktp                   0\n",
              "jenis_fktp                         0\n",
              "tipe_fktp                          0\n",
              "tingkat_pelayanan_fktp             0\n",
              "jenis_poli_fktp                    0\n",
              "akses_layanan_fktp                 0\n",
              "kode_nama_diagnosis                0\n",
              "kode_diagnosis                345912\n",
              "kode_diagnosis_2                   0\n",
              "nama_diagnosis                     0\n",
              "provinsi_rujukan                   0\n",
              "kota_rujukan                       0\n",
              "kepemilikan_faskes_rujukan         0\n",
              "jenis_faskes_rujukan               0\n",
              "tipe_faskes_rujukan                0\n",
              "poli_faskes_rujukan                0\n",
              "jenis_kunjungan_fktp               0\n",
              "dtype: int64"
            ]
          },
          "metadata": {},
          "execution_count": 50
        }
      ]
    },
    {
      "cell_type": "code",
      "source": [
        "# mengisi null value pada kolom kode diagnosis\n",
        "df_test['kode_diagnosis'].fillna(value='9999', inplace=True)\n",
        "\n",
        "# Encode fitur \n",
        "# df_test[['kode_diagnosis', 'kode_diagnosis_2']] = oe.transform(df_test[['kode_diagnosis', 'kode_diagnosis_2']])"
      ],
      "metadata": {
        "id": "kG1cB-c3WFSh"
      },
      "execution_count": 53,
      "outputs": []
    },
    {
      "cell_type": "code",
      "execution_count": null,
      "metadata": {
        "id": "Xb58phdCqE8t"
      },
      "outputs": [],
      "source": [
        "x_test = df_test.loc[corr_columns]\n",
        "\n",
        "x_test"
      ]
    },
    {
      "cell_type": "markdown",
      "metadata": {
        "id": "VSO-zk0GqE8y"
      },
      "source": [
        "# Export Result to CSV"
      ]
    },
    {
      "cell_type": "code",
      "execution_count": null,
      "metadata": {
        "id": "bAihhrsIqE8y"
      },
      "outputs": [],
      "source": [
        "# TODO: bikin dataframe dengan cols: No, PSTV01, Predicted\n",
        "df_result.to_csv('result.csv', encoding='utf-8', index=False)"
      ]
    }
  ],
  "metadata": {
    "kernelspec": {
      "display_name": "Python 3.8.5 64-bit",
      "language": "python",
      "name": "python3"
    },
    "language_info": {
      "codemirror_mode": {
        "name": "ipython",
        "version": 3
      },
      "file_extension": ".py",
      "mimetype": "text/x-python",
      "name": "python",
      "nbconvert_exporter": "python",
      "pygments_lexer": "ipython3",
      "version": "3.8.5"
    },
    "orig_nbformat": 4,
    "vscode": {
      "interpreter": {
        "hash": "f544ce1a915a9875fad91c894e2c0bcad4b7a79945aa6027ef3ad27810072aa6"
      }
    },
    "colab": {
      "provenance": [],
      "toc_visible": true
    },
    "accelerator": "GPU"
  },
  "nbformat": 4,
  "nbformat_minor": 0
}